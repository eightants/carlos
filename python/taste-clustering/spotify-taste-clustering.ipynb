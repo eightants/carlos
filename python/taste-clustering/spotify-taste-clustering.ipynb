{
 "cells": [
  {
   "cell_type": "markdown",
   "metadata": {},
   "source": [
    "## Recreating Your Spotify Taste Map with KMeans\n",
    "\n",
    "Spotify launched their Discover Weekly playlists in 2015, and it has been a great success. The secret? A mixture of collaborative filtering with music from other users, and a profile of each user’s music tastes. A Quartz Editor got an exclusive look into the inner workings of the system and a beautiful visual representation of their taste profile. \n",
    "\n",
    "This notebook will explore the taste profile aspect of the system, which is grouped into clusters of artists and micro-genres. I'll be making use of machine learning concepts and methods to group a user's music into these micro-genres and recreate the taste profile visualizations. \n",
    "\n",
    "Of course, I don't have access to as much data as Spotify has about listeners, or the advanced deep learning knowledge to create a copy of the algorithms. I'll be going through the process of obtaining the data, selecting features, clustering, labelling, and verifying the implementation. "
   ]
  },
  {
   "cell_type": "markdown",
   "metadata": {},
   "source": [
    "### Setup\n",
    "\n",
    "If you have cloned this repository and are running this locally, you should create a Spotify app and define a `.env` file in the `/python` directory with the contents below. \n",
    "```\n",
    "CLIENT_ID=\"your_spotify_app_id\"\n",
    "CLIENT_SECRET=\"your_spotify_app_secret\"\n",
    "USER_ID=\"your_spotify_username\"\n",
    "```"
   ]
  },
  {
   "cell_type": "markdown",
   "metadata": {},
   "source": [
    "**Importing the required libraries**\n",
    "\n",
    "We'll be using the `spotipy` library to obtain Spotify data, `dotenv` to load the env variables from the `.env` file, `pandas` to manipulate our data, `sklearn` for machine learning functions for analysis, and `matplotlib` and `seaborn` to plot our graphs. "
   ]
  },
  {
   "cell_type": "code",
   "execution_count": 1,
   "metadata": {},
   "outputs": [],
   "source": [
    "import os, json\n",
    "from dotenv import load_dotenv\n",
    "from collections import defaultdict\n",
    "\n",
    "import spotipy\n",
    "import spotipy.util as util\n",
    "\n",
    "import matplotlib.pyplot as plt\n",
    "import seaborn as sn\n",
    "import pandas as pd\n",
    "import numpy as np\n",
    "import circlify as circ\n",
    "\n",
    "from sklearn.preprocessing import StandardScaler\n",
    "from sklearn.cluster import KMeans\n",
    "from sklearn.metrics import silhouette_score\n",
    "from sklearn.decomposition import PCA"
   ]
  },
  {
   "cell_type": "code",
   "execution_count": 2,
   "metadata": {},
   "outputs": [],
   "source": [
    "# loads and sets API keys\n",
    "load_dotenv()\n",
    "\n",
    "client_id = os.getenv('CLIENT_ID')\n",
    "client_secret = os.getenv('CLIENT_SECRET')\n",
    "user_id = os.getenv(\"USER_ID\")\n",
    "\n",
    "# redirect uri and scope for obtaining Spotify token\n",
    "redirect_uri = \"http://localhost:9999\"\n",
    "scope = 'user-library-read, playlist-modify-public, user-top-read'"
   ]
  },
  {
   "cell_type": "markdown",
   "metadata": {},
   "source": [
    "Now that we have set the variables for Spotify, we can initialize `spotipy` and send a request for my top songs. "
   ]
  },
  {
   "cell_type": "code",
   "execution_count": 3,
   "metadata": {},
   "outputs": [],
   "source": [
    "# obtains user token from Spotify\n",
    "token = util.prompt_for_user_token(user_id, scope=scope, client_id=client_id, \\\n",
    "                                   client_secret=client_secret, redirect_uri=redirect_uri)\n",
    "sp = spotipy.Spotify(auth = token)"
   ]
  },
  {
   "cell_type": "code",
   "execution_count": 4,
   "metadata": {},
   "outputs": [],
   "source": [
    "# make request for my top tracks\n",
    "top_tracks = sp.current_user_top_tracks(limit=49, time_range=\"long_term\")\n",
    "songs = top_tracks[\"items\"]\n",
    "top_tracks = sp.next(top_tracks) # there are 2 pages of top tracks\n",
    "songs.extend(top_tracks['items'])"
   ]
  },
  {
   "cell_type": "markdown",
   "metadata": {},
   "source": [
    "**Get audio features for top tracks**\n",
    "\n",
    "We now have the top songs, but not any useful parameters for them. We can use Spotify's audio features endpoint to get that information for this list of songs we have. We also want to keep some metadata from the tracks in an object for easier reading. Now we move the data into DataFrames, dropping unrelated properties like `analysis_url`, `track_href`, etc. "
   ]
  },
  {
   "cell_type": "code",
   "execution_count": 5,
   "metadata": {},
   "outputs": [],
   "source": [
    "# get list of track ids to send to Spotify audio features endpoint, and keep track of metadata\n",
    "trkid = []\n",
    "trkname = []\n",
    "artistid = set()\n",
    "for track in songs:\n",
    "  trkid.append(track[\"id\"])\n",
    "  artistid.add(track[\"artists\"][0][\"id\"])\n",
    "  trkname.append({\n",
    "      \"name\": track[\"name\"], \n",
    "      \"id\": track[\"id\"], \n",
    "      \"artist\": track[\"artists\"][0][\"name\"]\n",
    "  })\n",
    "\n",
    "# get audio features for list of songs\n",
    "audiofeatures = sp.audio_features(trkid)"
   ]
  },
  {
   "cell_type": "code",
   "execution_count": 6,
   "metadata": {},
   "outputs": [],
   "source": [
    "# gets artist genres for list of artist ids\n",
    "count = 50\n",
    "artistid = list(artistid)\n",
    "artists = []\n",
    "while count < len(artistid):\n",
    "    artists.extend(sp.artists(artistid[:count])[\"artists\"])\n",
    "    count += 50\n",
    "artists.extend(sp.artists(artistid[count - 50:])[\"artists\"])\n",
    "\n",
    "# format artist genres and add into array of objects\n",
    "artistgenres = []\n",
    "for art in artists:\n",
    "    artistgenres.append({\"name\": art[\"name\"], \"genres\": art[\"genres\"]})\n",
    "\n",
    "for i in range(len(trkname)):\n",
    "    for art in artistgenres:\n",
    "        if trkname[i][\"artist\"] == art[\"name\"]:\n",
    "            trkname[i][\"genres\"] = art[\"genres\"]"
   ]
  },
  {
   "cell_type": "code",
   "execution_count": 7,
   "metadata": {},
   "outputs": [
    {
     "name": "stdout",
     "output_type": "stream",
     "text": [
      "tracks: 98\n"
     ]
    },
    {
     "data": {
      "text/html": [
       "<div>\n",
       "<style scoped>\n",
       "    .dataframe tbody tr th:only-of-type {\n",
       "        vertical-align: middle;\n",
       "    }\n",
       "\n",
       "    .dataframe tbody tr th {\n",
       "        vertical-align: top;\n",
       "    }\n",
       "\n",
       "    .dataframe thead th {\n",
       "        text-align: right;\n",
       "    }\n",
       "</style>\n",
       "<table border=\"1\" class=\"dataframe\">\n",
       "  <thead>\n",
       "    <tr style=\"text-align: right;\">\n",
       "      <th></th>\n",
       "      <th>name</th>\n",
       "      <th>id</th>\n",
       "      <th>artist</th>\n",
       "      <th>genres</th>\n",
       "      <th>danceability</th>\n",
       "      <th>energy</th>\n",
       "      <th>key</th>\n",
       "      <th>loudness</th>\n",
       "      <th>mode</th>\n",
       "      <th>speechiness</th>\n",
       "      <th>acousticness</th>\n",
       "      <th>instrumentalness</th>\n",
       "      <th>liveness</th>\n",
       "      <th>valence</th>\n",
       "      <th>tempo</th>\n",
       "      <th>duration_ms</th>\n",
       "      <th>time_signature</th>\n",
       "    </tr>\n",
       "  </thead>\n",
       "  <tbody>\n",
       "    <tr>\n",
       "      <th>0</th>\n",
       "      <td>Freak (feat. Bonn)</td>\n",
       "      <td>6NVjujGb9fnl25fjzm5dTy</td>\n",
       "      <td>Avicii</td>\n",
       "      <td>[big room, dance pop, edm, pop]</td>\n",
       "      <td>0.405</td>\n",
       "      <td>0.576</td>\n",
       "      <td>8</td>\n",
       "      <td>-6.245</td>\n",
       "      <td>1</td>\n",
       "      <td>0.1710</td>\n",
       "      <td>0.2250</td>\n",
       "      <td>0.000008</td>\n",
       "      <td>0.0822</td>\n",
       "      <td>0.695</td>\n",
       "      <td>91.204</td>\n",
       "      <td>179479</td>\n",
       "      <td>4</td>\n",
       "    </tr>\n",
       "    <tr>\n",
       "      <th>1</th>\n",
       "      <td>Holes - Radio Edit</td>\n",
       "      <td>77w4HJEAGzRwHTapyXjFl1</td>\n",
       "      <td>Passenger</td>\n",
       "      <td>[folk-pop, neo mellow, pop, pop rock]</td>\n",
       "      <td>0.369</td>\n",
       "      <td>0.591</td>\n",
       "      <td>4</td>\n",
       "      <td>-6.370</td>\n",
       "      <td>1</td>\n",
       "      <td>0.1020</td>\n",
       "      <td>0.3290</td>\n",
       "      <td>0.000003</td>\n",
       "      <td>0.0762</td>\n",
       "      <td>0.548</td>\n",
       "      <td>158.399</td>\n",
       "      <td>218613</td>\n",
       "      <td>1</td>\n",
       "    </tr>\n",
       "    <tr>\n",
       "      <th>2</th>\n",
       "      <td>Nervous (The Ooh Song) - Mark McCabe Remix</td>\n",
       "      <td>0L9lXMXddmoBbBUeF7A9An</td>\n",
       "      <td>Gavin James</td>\n",
       "      <td>[irish pop, neo mellow, pop, pop rock, viral pop]</td>\n",
       "      <td>0.432</td>\n",
       "      <td>0.874</td>\n",
       "      <td>7</td>\n",
       "      <td>-5.558</td>\n",
       "      <td>1</td>\n",
       "      <td>0.0462</td>\n",
       "      <td>0.0732</td>\n",
       "      <td>0.000006</td>\n",
       "      <td>0.3710</td>\n",
       "      <td>0.374</td>\n",
       "      <td>103.850</td>\n",
       "      <td>195195</td>\n",
       "      <td>4</td>\n",
       "    </tr>\n",
       "    <tr>\n",
       "      <th>3</th>\n",
       "      <td>The Wrong Direction</td>\n",
       "      <td>7FMEEYbIfiEazN02exf120</td>\n",
       "      <td>Passenger</td>\n",
       "      <td>[folk-pop, neo mellow, pop, pop rock]</td>\n",
       "      <td>0.689</td>\n",
       "      <td>0.666</td>\n",
       "      <td>5</td>\n",
       "      <td>-6.352</td>\n",
       "      <td>1</td>\n",
       "      <td>0.0372</td>\n",
       "      <td>0.3640</td>\n",
       "      <td>0.000000</td>\n",
       "      <td>0.0925</td>\n",
       "      <td>0.800</td>\n",
       "      <td>127.993</td>\n",
       "      <td>221373</td>\n",
       "      <td>4</td>\n",
       "    </tr>\n",
       "    <tr>\n",
       "      <th>4</th>\n",
       "      <td>Let Her Go</td>\n",
       "      <td>7DFNE7NO0raLIUbgzY2rzm</td>\n",
       "      <td>Passenger</td>\n",
       "      <td>[folk-pop, neo mellow, pop, pop rock]</td>\n",
       "      <td>0.509</td>\n",
       "      <td>0.538</td>\n",
       "      <td>7</td>\n",
       "      <td>-7.335</td>\n",
       "      <td>1</td>\n",
       "      <td>0.0572</td>\n",
       "      <td>0.3850</td>\n",
       "      <td>0.000000</td>\n",
       "      <td>0.1040</td>\n",
       "      <td>0.244</td>\n",
       "      <td>75.089</td>\n",
       "      <td>252867</td>\n",
       "      <td>4</td>\n",
       "    </tr>\n",
       "  </tbody>\n",
       "</table>\n",
       "</div>"
      ],
      "text/plain": [
       "                                         name                      id  \\\n",
       "0                          Freak (feat. Bonn)  6NVjujGb9fnl25fjzm5dTy   \n",
       "1                          Holes - Radio Edit  77w4HJEAGzRwHTapyXjFl1   \n",
       "2  Nervous (The Ooh Song) - Mark McCabe Remix  0L9lXMXddmoBbBUeF7A9An   \n",
       "3                         The Wrong Direction  7FMEEYbIfiEazN02exf120   \n",
       "4                                  Let Her Go  7DFNE7NO0raLIUbgzY2rzm   \n",
       "\n",
       "        artist                                             genres  \\\n",
       "0       Avicii                    [big room, dance pop, edm, pop]   \n",
       "1    Passenger              [folk-pop, neo mellow, pop, pop rock]   \n",
       "2  Gavin James  [irish pop, neo mellow, pop, pop rock, viral pop]   \n",
       "3    Passenger              [folk-pop, neo mellow, pop, pop rock]   \n",
       "4    Passenger              [folk-pop, neo mellow, pop, pop rock]   \n",
       "\n",
       "   danceability  energy  key  loudness  mode  speechiness  acousticness  \\\n",
       "0         0.405   0.576    8    -6.245     1       0.1710        0.2250   \n",
       "1         0.369   0.591    4    -6.370     1       0.1020        0.3290   \n",
       "2         0.432   0.874    7    -5.558     1       0.0462        0.0732   \n",
       "3         0.689   0.666    5    -6.352     1       0.0372        0.3640   \n",
       "4         0.509   0.538    7    -7.335     1       0.0572        0.3850   \n",
       "\n",
       "   instrumentalness  liveness  valence    tempo  duration_ms  time_signature  \n",
       "0          0.000008    0.0822    0.695   91.204       179479               4  \n",
       "1          0.000003    0.0762    0.548  158.399       218613               1  \n",
       "2          0.000006    0.3710    0.374  103.850       195195               4  \n",
       "3          0.000000    0.0925    0.800  127.993       221373               4  \n",
       "4          0.000000    0.1040    0.244   75.089       252867               4  "
      ]
     },
     "execution_count": 7,
     "metadata": {},
     "output_type": "execute_result"
    }
   ],
   "source": [
    "# create dataframe for the metadata\n",
    "top_tracks_names = pd.DataFrame(trkname)\n",
    "\n",
    "# create df for audio features, dropping unrelated properties\n",
    "top_tracks_audiofeat_df = pd.DataFrame(audiofeatures).drop(\n",
    "    ['analysis_url', 'track_href', 'type', 'uri'], axis=1)\n",
    "top_tracks_df = top_tracks_names.merge(top_tracks_audiofeat_df, on=\"id\")\n",
    "\n",
    "# preview the data we have so far\n",
    "print(\"tracks: %d\" % top_tracks_df.shape[0])\n",
    "top_tracks_df.head()"
   ]
  },
  {
   "cell_type": "markdown",
   "metadata": {},
   "source": [
    "### Preprocessing\n",
    "\n",
    "With the tracks obtained, we still have some steps to take before running our k-means algorithm. We want to normalize the features so that they all have equal weight, otherwise we'll likely get songs grouped by `duration_ms` due to the large values. Then, we want to remove any highly correlated features from the matrix to remove redundancy. "
   ]
  },
  {
   "cell_type": "markdown",
   "metadata": {},
   "source": [
    "**Normalize the audio features data**\n",
    "\n",
    "We'll define all the operations we perform on the data in functions for reusability. "
   ]
  },
  {
   "cell_type": "code",
   "execution_count": 8,
   "metadata": {},
   "outputs": [
    {
     "data": {
      "text/html": [
       "<div>\n",
       "<style scoped>\n",
       "    .dataframe tbody tr th:only-of-type {\n",
       "        vertical-align: middle;\n",
       "    }\n",
       "\n",
       "    .dataframe tbody tr th {\n",
       "        vertical-align: top;\n",
       "    }\n",
       "\n",
       "    .dataframe thead th {\n",
       "        text-align: right;\n",
       "    }\n",
       "</style>\n",
       "<table border=\"1\" class=\"dataframe\">\n",
       "  <thead>\n",
       "    <tr style=\"text-align: right;\">\n",
       "      <th></th>\n",
       "      <th>danceability</th>\n",
       "      <th>energy</th>\n",
       "      <th>key</th>\n",
       "      <th>loudness</th>\n",
       "      <th>mode</th>\n",
       "      <th>speechiness</th>\n",
       "      <th>acousticness</th>\n",
       "      <th>instrumentalness</th>\n",
       "      <th>liveness</th>\n",
       "      <th>valence</th>\n",
       "      <th>tempo</th>\n",
       "      <th>duration_ms</th>\n",
       "      <th>time_signature</th>\n",
       "      <th>id</th>\n",
       "    </tr>\n",
       "  </thead>\n",
       "  <tbody>\n",
       "    <tr>\n",
       "      <th>0</th>\n",
       "      <td>-2.154371</td>\n",
       "      <td>-0.367621</td>\n",
       "      <td>0.781451</td>\n",
       "      <td>0.377943</td>\n",
       "      <td>0.61667</td>\n",
       "      <td>3.155800</td>\n",
       "      <td>-0.202629</td>\n",
       "      <td>-0.196762</td>\n",
       "      <td>-0.755193</td>\n",
       "      <td>1.407127</td>\n",
       "      <td>-0.968979</td>\n",
       "      <td>-1.029051</td>\n",
       "      <td>0.2</td>\n",
       "      <td>6NVjujGb9fnl25fjzm5dTy</td>\n",
       "    </tr>\n",
       "    <tr>\n",
       "      <th>1</th>\n",
       "      <td>-2.516512</td>\n",
       "      <td>-0.275402</td>\n",
       "      <td>-0.316502</td>\n",
       "      <td>0.322355</td>\n",
       "      <td>0.61667</td>\n",
       "      <td>1.249226</td>\n",
       "      <td>0.221759</td>\n",
       "      <td>-0.196815</td>\n",
       "      <td>-0.827268</td>\n",
       "      <td>0.525891</td>\n",
       "      <td>2.255589</td>\n",
       "      <td>0.348776</td>\n",
       "      <td>-8.2</td>\n",
       "      <td>77w4HJEAGzRwHTapyXjFl1</td>\n",
       "    </tr>\n",
       "    <tr>\n",
       "      <th>2</th>\n",
       "      <td>-1.882765</td>\n",
       "      <td>1.464460</td>\n",
       "      <td>0.506963</td>\n",
       "      <td>0.683458</td>\n",
       "      <td>0.61667</td>\n",
       "      <td>-0.292612</td>\n",
       "      <td>-0.822073</td>\n",
       "      <td>-0.196784</td>\n",
       "      <td>2.714012</td>\n",
       "      <td>-0.517205</td>\n",
       "      <td>-0.362120</td>\n",
       "      <td>-0.475723</td>\n",
       "      <td>0.2</td>\n",
       "      <td>0L9lXMXddmoBbBUeF7A9An</td>\n",
       "    </tr>\n",
       "    <tr>\n",
       "      <th>3</th>\n",
       "      <td>0.702521</td>\n",
       "      <td>0.185692</td>\n",
       "      <td>-0.042014</td>\n",
       "      <td>0.330360</td>\n",
       "      <td>0.61667</td>\n",
       "      <td>-0.541296</td>\n",
       "      <td>0.364582</td>\n",
       "      <td>-0.196854</td>\n",
       "      <td>-0.631464</td>\n",
       "      <td>2.036582</td>\n",
       "      <td>0.796460</td>\n",
       "      <td>0.445950</td>\n",
       "      <td>0.2</td>\n",
       "      <td>7FMEEYbIfiEazN02exf120</td>\n",
       "    </tr>\n",
       "    <tr>\n",
       "      <th>4</th>\n",
       "      <td>-1.108185</td>\n",
       "      <td>-0.601242</td>\n",
       "      <td>0.506963</td>\n",
       "      <td>-0.106789</td>\n",
       "      <td>0.61667</td>\n",
       "      <td>0.011335</td>\n",
       "      <td>0.450276</td>\n",
       "      <td>-0.196854</td>\n",
       "      <td>-0.493321</td>\n",
       "      <td>-1.296529</td>\n",
       "      <td>-1.742309</td>\n",
       "      <td>1.554788</td>\n",
       "      <td>0.2</td>\n",
       "      <td>7DFNE7NO0raLIUbgzY2rzm</td>\n",
       "    </tr>\n",
       "  </tbody>\n",
       "</table>\n",
       "</div>"
      ],
      "text/plain": [
       "   danceability    energy       key  loudness     mode  speechiness  \\\n",
       "0     -2.154371 -0.367621  0.781451  0.377943  0.61667     3.155800   \n",
       "1     -2.516512 -0.275402 -0.316502  0.322355  0.61667     1.249226   \n",
       "2     -1.882765  1.464460  0.506963  0.683458  0.61667    -0.292612   \n",
       "3      0.702521  0.185692 -0.042014  0.330360  0.61667    -0.541296   \n",
       "4     -1.108185 -0.601242  0.506963 -0.106789  0.61667     0.011335   \n",
       "\n",
       "   acousticness  instrumentalness  liveness   valence     tempo  duration_ms  \\\n",
       "0     -0.202629         -0.196762 -0.755193  1.407127 -0.968979    -1.029051   \n",
       "1      0.221759         -0.196815 -0.827268  0.525891  2.255589     0.348776   \n",
       "2     -0.822073         -0.196784  2.714012 -0.517205 -0.362120    -0.475723   \n",
       "3      0.364582         -0.196854 -0.631464  2.036582  0.796460     0.445950   \n",
       "4      0.450276         -0.196854 -0.493321 -1.296529 -1.742309     1.554788   \n",
       "\n",
       "   time_signature                      id  \n",
       "0             0.2  6NVjujGb9fnl25fjzm5dTy  \n",
       "1            -8.2  77w4HJEAGzRwHTapyXjFl1  \n",
       "2             0.2  0L9lXMXddmoBbBUeF7A9An  \n",
       "3             0.2  7FMEEYbIfiEazN02exf120  \n",
       "4             0.2  7DFNE7NO0raLIUbgzY2rzm  "
      ]
     },
     "execution_count": 8,
     "metadata": {},
     "output_type": "execute_result"
    }
   ],
   "source": [
    "def NormalizeFeatures(top_tracks_audiofeat_df):\n",
    "    \"\"\"Function to normalize feature values\n",
    "    top_tracks_audiofeat_df : DataFrame\n",
    "    \"\"\"\n",
    "    audio_features_scaler = StandardScaler()\n",
    "    # drop all the non-relevant columns for scaling, like id, track name, artist name\n",
    "    scaled_features = audio_features_scaler.fit_transform(\n",
    "        top_tracks_audiofeat_df.drop(\"id\", axis=1))\n",
    "    scaled_features_df = pd.DataFrame(\n",
    "        scaled_features, columns=top_tracks_audiofeat_df.drop('id', axis=1).columns)\n",
    "    scaled_features_df[\"id\"] = top_tracks_audiofeat_df[\"id\"]\n",
    "    return scaled_features_df\n",
    "\n",
    "scaled_features_df = NormalizeFeatures(top_tracks_audiofeat_df)\n",
    "scaled_features_df.head()"
   ]
  },
  {
   "cell_type": "markdown",
   "metadata": {},
   "source": [
    "**Omit redundant features**"
   ]
  },
  {
   "cell_type": "code",
   "execution_count": 9,
   "metadata": {},
   "outputs": [
    {
     "data": {
      "text/plain": [
       "<Figure size 432x288 with 0 Axes>"
      ]
     },
     "metadata": {},
     "output_type": "display_data"
    },
    {
     "data": {
      "image/png": "[encoded data removed]",
      "text/plain": [
       "<Figure size 720x576 with 2 Axes>"
      ]
     },
     "metadata": {
      "needs_background": "light"
     },
     "output_type": "display_data"
    }
   ],
   "source": [
    "# Correlation Matrix\n",
    "plt.tight_layout()\n",
    "plt.figure(figsize=(10, 8))\n",
    "corrMatrix = scaled_features_df.drop(['id'], axis=1).corr()\n",
    "sn.heatmap(corrMatrix, annot=True);"
   ]
  },
  {
   "cell_type": "markdown",
   "metadata": {},
   "source": [
    "We can plot a correlation matrix to view how independent the variables are to each other. We see that loudness and energy are highly correlated, as well as acousticness and energy. So, we'll remove loudness to reduce the noise in the algorithm, and increase efficiency and intepretability. \n",
    "\n",
    "Another thing that we can do is looking through the features manually and selecting only the ones that will help reach our target. From that analysis, time_signature, key, and mode can potentially be removed too, but it's a personal preference. "
   ]
  },
  {
   "cell_type": "code",
   "execution_count": 10,
   "metadata": {},
   "outputs": [],
   "source": [
    "scaled_features_df = scaled_features_df.drop([\"loudness\", \"key\", \"time_signature\", \"mode\"], axis=1)"
   ]
  },
  {
   "cell_type": "markdown",
   "metadata": {},
   "source": [
    "### Principle Component Analysis\n",
    "\n",
    "PCA is the main method we'll be using to recreate the visualizations through dimensionality reduction. By transforming the data to a new coordinate system, we are able to visualize high-dimensional data in a 2d plot. Let's take a look at my top songs visualized, and the variance shown with the two PCA combinations that explain the data. "
   ]
  },
  {
   "cell_type": "code",
   "execution_count": 11,
   "metadata": {},
   "outputs": [],
   "source": [
    "# Set up PCA\n",
    "pca = PCA()\n",
    "principal_comp = pca.fit_transform(\n",
    "    scaled_features_df.drop([\"id\"], axis=1))\n",
    "PCA_comp = pd.DataFrame(principal_comp)"
   ]
  },
  {
   "cell_type": "code",
   "execution_count": 12,
   "metadata": {},
   "outputs": [
    {
     "data": {
      "image/png": "[encoded data removed]",
      "text/plain": [
       "<Figure size 432x288 with 1 Axes>"
      ]
     },
     "metadata": {
      "needs_background": "light"
     },
     "output_type": "display_data"
    }
   ],
   "source": [
    "# Plot PCA\n",
    "features = range(pca.n_components_)\n",
    "plt.bar(features, pca.explained_variance_ratio_, color='black')\n",
    "plt.xlabel('PCA features')\n",
    "plt.ylabel('variance %')\n",
    "plt.xticks(features);"
   ]
  },
  {
   "cell_type": "markdown",
   "metadata": {},
   "source": [
    "We can see that the first two PCA features explain about 30% of the variance in the data. This isn't too great, but is probably sufficient to plot the relationship between songs, since they are such subjective data. Now let's plot my songs and music taste map. "
   ]
  },
  {
   "cell_type": "code",
   "execution_count": 13,
   "metadata": {},
   "outputs": [
    {
     "data": {
      "image/png": "[encoded data removed]",
      "text/plain": [
       "<Figure size 432x288 with 1 Axes>"
      ]
     },
     "metadata": {
      "needs_background": "light"
     },
     "output_type": "display_data"
    }
   ],
   "source": [
    "# plots top songs as scatter plot\n",
    "plt.scatter(PCA_comp[0], PCA_comp[1], alpha=.4, color=\"black\");"
   ]
  },
  {
   "cell_type": "code",
   "execution_count": 14,
   "metadata": {},
   "outputs": [
    {
     "data": {
      "image/png": "[encoded data removed]",
      "text/plain": [
       "<Figure size 432x288 with 1 Axes>"
      ]
     },
     "metadata": {
      "needs_background": "light"
     },
     "output_type": "display_data"
    }
   ],
   "source": [
    "# plots density map similar to taste map in original article\n",
    "sn.kdeplot(PCA_comp[0], PCA_comp[1], shade=True, shade_lowest=False);"
   ]
  },
  {
   "cell_type": "markdown",
   "metadata": {},
   "source": [
    "### K-Means Clustering\n",
    "\n",
    "Now that we have the songs visualized, we want to identify the different clusters of genres and artists I listen to. Here is where k-means comes into play. \n",
    "\n",
    "It works by initializing `k` number of centroids and assign each element to the nearest centroid. Then the centroids are moved to the center of all it's assigned points, then each element is assigned their nearest centroid again. The process repeats until an equilibrium is reached. \n",
    "\n",
    "With this method, we can find the various clusters in my top songs, and analyze them for trends. "
   ]
  },
  {
   "cell_type": "markdown",
   "metadata": {},
   "source": [
    "**Number of clusters**\n",
    "\n",
    "Before running k-means, we have to decide on `k`, the number of clusters. The original article had 6 main clusters, and I'm tempted to do the same. To make sure this isn't a bad decision, we can verify it with the [elbow method](https://en.wikipedia.org/wiki/Elbow_method_(clustering)). "
   ]
  },
  {
   "cell_type": "code",
   "execution_count": 15,
   "metadata": {},
   "outputs": [
    {
     "data": {
      "image/png": "[encoded data removed]",
      "text/plain": [
       "<Figure size 432x288 with 1 Axes>"
      ]
     },
     "metadata": {
      "needs_background": "light"
     },
     "output_type": "display_data"
    }
   ],
   "source": [
    "# Elbow Method\n",
    "def ElbowPlot(scaled_features_df):\n",
    "    ssds = [ ]\n",
    "    for k in list(range(1,42)):\n",
    "        kmeans = KMeans(n_clusters=k).fit(scaled_features_df.drop([\"id\"], axis = 1))\n",
    "        ssds.append({\"k\": k, \"ssd\": kmeans.inertia_})\n",
    "\n",
    "    ssds_df = pd.DataFrame(ssds)\n",
    "    plt.scatter(ssds_df[\"k\"], ssds_df[\"ssd\"])\n",
    "    plt.xlabel(\"number of clusters\")\n",
    "    plt.ylabel(\"similarity (sum square of distance)\")\n",
    "\n",
    "ElbowPlot(scaled_features_df)"
   ]
  },
  {
   "cell_type": "markdown",
   "metadata": {},
   "source": [
    "We can see some sort of elbow around 6 or 7, which means that our pick was good enough. To double-check, we can also use the [Silhoutte method](https://en.wikipedia.org/wiki/Silhouette_(clustering)). This measures how similar an element is to its cluster compared to others from a scale of -1 to 1. "
   ]
  },
  {
   "cell_type": "markdown",
   "metadata": {},
   "source": [
    "**Running k-means**"
   ]
  },
  {
   "cell_type": "code",
   "execution_count": 16,
   "metadata": {},
   "outputs": [
    {
     "data": {
      "text/html": [
       "<div>\n",
       "<style scoped>\n",
       "    .dataframe tbody tr th:only-of-type {\n",
       "        vertical-align: middle;\n",
       "    }\n",
       "\n",
       "    .dataframe tbody tr th {\n",
       "        vertical-align: top;\n",
       "    }\n",
       "\n",
       "    .dataframe thead th {\n",
       "        text-align: right;\n",
       "    }\n",
       "</style>\n",
       "<table border=\"1\" class=\"dataframe\">\n",
       "  <thead>\n",
       "    <tr style=\"text-align: right;\">\n",
       "      <th></th>\n",
       "      <th>name</th>\n",
       "      <th>id</th>\n",
       "      <th>artist</th>\n",
       "      <th>genres</th>\n",
       "      <th>danceability</th>\n",
       "      <th>energy</th>\n",
       "      <th>speechiness</th>\n",
       "      <th>acousticness</th>\n",
       "      <th>instrumentalness</th>\n",
       "      <th>liveness</th>\n",
       "      <th>valence</th>\n",
       "      <th>tempo</th>\n",
       "      <th>duration_ms</th>\n",
       "      <th>cluster</th>\n",
       "    </tr>\n",
       "  </thead>\n",
       "  <tbody>\n",
       "    <tr>\n",
       "      <th>3</th>\n",
       "      <td>The Wrong Direction</td>\n",
       "      <td>7FMEEYbIfiEazN02exf120</td>\n",
       "      <td>Passenger</td>\n",
       "      <td>[folk-pop, neo mellow, pop, pop rock]</td>\n",
       "      <td>0.702521</td>\n",
       "      <td>0.185692</td>\n",
       "      <td>-0.541296</td>\n",
       "      <td>0.364582</td>\n",
       "      <td>-0.196854</td>\n",
       "      <td>-0.631464</td>\n",
       "      <td>2.036582</td>\n",
       "      <td>0.796460</td>\n",
       "      <td>0.445950</td>\n",
       "      <td>0</td>\n",
       "    </tr>\n",
       "    <tr>\n",
       "      <th>14</th>\n",
       "      <td>First Time</td>\n",
       "      <td>2Gl0FzuLxflY6nPifJp5Dr</td>\n",
       "      <td>Kygo</td>\n",
       "      <td>[edm, pop, tropical house]</td>\n",
       "      <td>0.139190</td>\n",
       "      <td>-0.269254</td>\n",
       "      <td>1.525541</td>\n",
       "      <td>-0.316888</td>\n",
       "      <td>-0.196854</td>\n",
       "      <td>-0.553383</td>\n",
       "      <td>1.311210</td>\n",
       "      <td>-1.023590</td>\n",
       "      <td>-0.535013</td>\n",
       "      <td>0</td>\n",
       "    </tr>\n",
       "    <tr>\n",
       "      <th>17</th>\n",
       "      <td>Heart to Love</td>\n",
       "      <td>1pXy0rgUGQsaeaip4EN6gF</td>\n",
       "      <td>Passenger</td>\n",
       "      <td>[folk-pop, neo mellow, pop, pop rock]</td>\n",
       "      <td>-1.017650</td>\n",
       "      <td>0.579159</td>\n",
       "      <td>-0.436296</td>\n",
       "      <td>-0.948166</td>\n",
       "      <td>-0.187873</td>\n",
       "      <td>-0.421246</td>\n",
       "      <td>0.783668</td>\n",
       "      <td>-0.596495</td>\n",
       "      <td>-0.388725</td>\n",
       "      <td>0</td>\n",
       "    </tr>\n",
       "    <tr>\n",
       "      <th>19</th>\n",
       "      <td>Reality</td>\n",
       "      <td>1Mys1gf9SkMBAVGGxpkJ7d</td>\n",
       "      <td>Lost Frequencies</td>\n",
       "      <td>[belgian edm, edm, pop, tropical house]</td>\n",
       "      <td>0.954008</td>\n",
       "      <td>0.376278</td>\n",
       "      <td>-0.684979</td>\n",
       "      <td>-1.040389</td>\n",
       "      <td>-0.196832</td>\n",
       "      <td>-0.905349</td>\n",
       "      <td>0.849610</td>\n",
       "      <td>0.515824</td>\n",
       "      <td>-1.733174</td>\n",
       "      <td>0</td>\n",
       "    </tr>\n",
       "    <tr>\n",
       "      <th>29</th>\n",
       "      <td>Born To Be Yours</td>\n",
       "      <td>0kHyKhJMukHEPfeh8s7rdM</td>\n",
       "      <td>Kygo</td>\n",
       "      <td>[edm, pop, tropical house]</td>\n",
       "      <td>0.692462</td>\n",
       "      <td>0.320947</td>\n",
       "      <td>-0.582743</td>\n",
       "      <td>0.103420</td>\n",
       "      <td>-0.196854</td>\n",
       "      <td>-0.562993</td>\n",
       "      <td>-0.055605</td>\n",
       "      <td>0.125488</td>\n",
       "      <td>-0.541703</td>\n",
       "      <td>0</td>\n",
       "    </tr>\n",
       "  </tbody>\n",
       "</table>\n",
       "</div>"
      ],
      "text/plain": [
       "                   name                      id            artist  \\\n",
       "3   The Wrong Direction  7FMEEYbIfiEazN02exf120         Passenger   \n",
       "14           First Time  2Gl0FzuLxflY6nPifJp5Dr              Kygo   \n",
       "17        Heart to Love  1pXy0rgUGQsaeaip4EN6gF         Passenger   \n",
       "19              Reality  1Mys1gf9SkMBAVGGxpkJ7d  Lost Frequencies   \n",
       "29     Born To Be Yours  0kHyKhJMukHEPfeh8s7rdM              Kygo   \n",
       "\n",
       "                                     genres  danceability    energy  \\\n",
       "3     [folk-pop, neo mellow, pop, pop rock]      0.702521  0.185692   \n",
       "14               [edm, pop, tropical house]      0.139190 -0.269254   \n",
       "17    [folk-pop, neo mellow, pop, pop rock]     -1.017650  0.579159   \n",
       "19  [belgian edm, edm, pop, tropical house]      0.954008  0.376278   \n",
       "29               [edm, pop, tropical house]      0.692462  0.320947   \n",
       "\n",
       "    speechiness  acousticness  instrumentalness  liveness   valence     tempo  \\\n",
       "3     -0.541296      0.364582         -0.196854 -0.631464  2.036582  0.796460   \n",
       "14     1.525541     -0.316888         -0.196854 -0.553383  1.311210 -1.023590   \n",
       "17    -0.436296     -0.948166         -0.187873 -0.421246  0.783668 -0.596495   \n",
       "19    -0.684979     -1.040389         -0.196832 -0.905349  0.849610  0.515824   \n",
       "29    -0.582743      0.103420         -0.196854 -0.562993 -0.055605  0.125488   \n",
       "\n",
       "    duration_ms  cluster  \n",
       "3      0.445950        0  \n",
       "14    -0.535013        0  \n",
       "17    -0.388725        0  \n",
       "19    -1.733174        0  \n",
       "29    -0.541703        0  "
      ]
     },
     "execution_count": 16,
     "metadata": {},
     "output_type": "execute_result"
    }
   ],
   "source": [
    "k = 6\n",
    "\n",
    "kmeans = KMeans(k).fit(\n",
    "    scaled_features_df.drop([\"id\"], axis=1))\n",
    "scaled_features_df[\"cluster\"] = pd.Series(kmeans.labels_)\n",
    "\n",
    "# Add metadata back to tracks\n",
    "top_tracks_normalized_df = top_tracks_names.merge(scaled_features_df, on=\"id\")\n",
    "\n",
    "# preview the contents of a cluster\n",
    "top_tracks_normalized_df[top_tracks_normalized_df[\"cluster\"] == 0].head()"
   ]
  },
  {
   "cell_type": "markdown",
   "metadata": {},
   "source": [
    "From my knowledge of those songs, the clustering seems to have worked. Now to plot them!"
   ]
  },
  {
   "cell_type": "markdown",
   "metadata": {},
   "source": [
    "**Plotting clusters**"
   ]
  },
  {
   "cell_type": "code",
   "execution_count": 17,
   "metadata": {
    "scrolled": true
   },
   "outputs": [
    {
     "data": {
      "image/png": "[encoded data removed]",
      "text/plain": [
       "<Figure size 432x288 with 1 Axes>"
      ]
     },
     "metadata": {
      "needs_background": "light"
     },
     "output_type": "display_data"
    }
   ],
   "source": [
    "sn.kdeplot(PCA_comp[0], PCA_comp[1], shade=True, shade_lowest=False)\n",
    "plt.scatter(PCA_comp[0], PCA_comp[1], alpha=.6,\n",
    "                 c=top_tracks_normalized_df[\"cluster\"].astype(float));"
   ]
  },
  {
   "cell_type": "code",
   "execution_count": 18,
   "metadata": {},
   "outputs": [
    {
     "data": {
      "image/png": "[encoded data removed]",
      "text/plain": [
       "<Figure size 432x288 with 1 Axes>"
      ]
     },
     "metadata": {
      "needs_background": "light"
     },
     "output_type": "display_data"
    }
   ],
   "source": [
    "# plot cluster centroids\n",
    "centers = np.array(kmeans.cluster_centers_)\n",
    "principal_comp_centroids = pca.transform(\n",
    "    centers)\n",
    "PCA_comp_centroids = pd.DataFrame(principal_comp_centroids)\n",
    "\n",
    "sn.kdeplot(PCA_comp[0], PCA_comp[1], shade=True, shade_lowest=False)\n",
    "plt.scatter(PCA_comp_centroids[0], PCA_comp_centroids[1], c=PCA_comp_centroids.index.astype(float));"
   ]
  },
  {
   "cell_type": "markdown",
   "metadata": {},
   "source": [
    "### Labelling Clusters\n",
    "\n",
    "Now that we have plotted the centers of each cluster, we can label them based on their content. Right now, we can show the top genres of each cluster, and list the top artists to describe it. In the future, I'm looking into using deep learning methods to title the clusters based on song characteristics. "
   ]
  },
  {
   "cell_type": "markdown",
   "metadata": {},
   "source": [
    "**Get top artists and genres for each cluster**"
   ]
  },
  {
   "cell_type": "code",
   "execution_count": 19,
   "metadata": {},
   "outputs": [
    {
     "data": {
      "text/html": [
       "<div>\n",
       "<style scoped>\n",
       "    .dataframe tbody tr th:only-of-type {\n",
       "        vertical-align: middle;\n",
       "    }\n",
       "\n",
       "    .dataframe tbody tr th {\n",
       "        vertical-align: top;\n",
       "    }\n",
       "\n",
       "    .dataframe thead th {\n",
       "        text-align: right;\n",
       "    }\n",
       "</style>\n",
       "<table border=\"1\" class=\"dataframe\">\n",
       "  <thead>\n",
       "    <tr style=\"text-align: right;\">\n",
       "      <th></th>\n",
       "      <th>total</th>\n",
       "      <th>name</th>\n",
       "      <th>cluster_0</th>\n",
       "      <th>cluster_1</th>\n",
       "      <th>cluster_2</th>\n",
       "      <th>cluster_3</th>\n",
       "      <th>cluster_4</th>\n",
       "      <th>cluster_5</th>\n",
       "      <th>artist</th>\n",
       "      <th>genres</th>\n",
       "    </tr>\n",
       "  </thead>\n",
       "  <tbody>\n",
       "    <tr>\n",
       "      <th>0</th>\n",
       "      <td>11</td>\n",
       "      <td>Kygo</td>\n",
       "      <td>2.0</td>\n",
       "      <td>1.0</td>\n",
       "      <td>5.0</td>\n",
       "      <td>0.0</td>\n",
       "      <td>1.0</td>\n",
       "      <td>2.0</td>\n",
       "      <td>Kygo</td>\n",
       "      <td>[edm, pop, tropical house]</td>\n",
       "    </tr>\n",
       "    <tr>\n",
       "      <th>1</th>\n",
       "      <td>8</td>\n",
       "      <td>Passenger</td>\n",
       "      <td>3.0</td>\n",
       "      <td>2.0</td>\n",
       "      <td>2.0</td>\n",
       "      <td>0.0</td>\n",
       "      <td>0.0</td>\n",
       "      <td>1.0</td>\n",
       "      <td>Passenger</td>\n",
       "      <td>[folk-pop, neo mellow, pop, pop rock]</td>\n",
       "    </tr>\n",
       "    <tr>\n",
       "      <th>2</th>\n",
       "      <td>8</td>\n",
       "      <td>Avicii</td>\n",
       "      <td>2.0</td>\n",
       "      <td>1.0</td>\n",
       "      <td>2.0</td>\n",
       "      <td>0.0</td>\n",
       "      <td>2.0</td>\n",
       "      <td>1.0</td>\n",
       "      <td>Avicii</td>\n",
       "      <td>[big room, dance pop, edm, pop]</td>\n",
       "    </tr>\n",
       "    <tr>\n",
       "      <th>3</th>\n",
       "      <td>4</td>\n",
       "      <td>Lost Frequencies</td>\n",
       "      <td>2.0</td>\n",
       "      <td>0.0</td>\n",
       "      <td>1.0</td>\n",
       "      <td>0.0</td>\n",
       "      <td>1.0</td>\n",
       "      <td>0.0</td>\n",
       "      <td>Lost Frequencies</td>\n",
       "      <td>[belgian edm, edm, pop, tropical house]</td>\n",
       "    </tr>\n",
       "    <tr>\n",
       "      <th>4</th>\n",
       "      <td>3</td>\n",
       "      <td>Chef'Special</td>\n",
       "      <td>1.0</td>\n",
       "      <td>1.0</td>\n",
       "      <td>1.0</td>\n",
       "      <td>0.0</td>\n",
       "      <td>0.0</td>\n",
       "      <td>0.0</td>\n",
       "      <td>Chef'Special</td>\n",
       "      <td>[dutch indie, dutch pop, dutch rock, folk-pop]</td>\n",
       "    </tr>\n",
       "  </tbody>\n",
       "</table>\n",
       "</div>"
      ],
      "text/plain": [
       "   total              name  cluster_0  cluster_1  cluster_2  cluster_3  \\\n",
       "0     11              Kygo        2.0        1.0        5.0        0.0   \n",
       "1      8         Passenger        3.0        2.0        2.0        0.0   \n",
       "2      8            Avicii        2.0        1.0        2.0        0.0   \n",
       "3      4  Lost Frequencies        2.0        0.0        1.0        0.0   \n",
       "4      3      Chef'Special        1.0        1.0        1.0        0.0   \n",
       "\n",
       "   cluster_4  cluster_5            artist  \\\n",
       "0        1.0        2.0              Kygo   \n",
       "1        0.0        1.0         Passenger   \n",
       "2        2.0        1.0            Avicii   \n",
       "3        1.0        0.0  Lost Frequencies   \n",
       "4        0.0        0.0      Chef'Special   \n",
       "\n",
       "                                           genres  \n",
       "0                      [edm, pop, tropical house]  \n",
       "1           [folk-pop, neo mellow, pop, pop rock]  \n",
       "2                 [big room, dance pop, edm, pop]  \n",
       "3         [belgian edm, edm, pop, tropical house]  \n",
       "4  [dutch indie, dutch pop, dutch rock, folk-pop]  "
      ]
     },
     "execution_count": 19,
     "metadata": {},
     "output_type": "execute_result"
    }
   ],
   "source": [
    "# function to return dataframe with the artist frequency in each cluster\n",
    "def getArtistCountDf(k, top_tracks_normalized_df):\n",
    "    count_df = top_tracks_normalized_df[top_tracks_normalized_df[\"cluster\"]\n",
    "                                        == k].artist.value_counts().to_frame()\n",
    "    count_df = count_df.rename(columns={\"artist\": \"cluster_\" + str(k)})\n",
    "    count_df[\"name\"] = count_df.index\n",
    "    return count_df\n",
    "\n",
    "\n",
    "# get total count of each artist in the data\n",
    "artist_count_df = top_tracks_normalized_df.artist.value_counts().to_frame()\n",
    "artist_count_df = artist_count_df.rename(columns={\"artist\": \"total\"})\n",
    "artist_count_df['name'] = artist_count_df.index\n",
    "\n",
    "# merge all cluster count together\n",
    "for i in range(k):\n",
    "    artist_count_df = artist_count_df.merge(getArtistCountDf(\n",
    "        i, top_tracks_normalized_df), on=\"name\", how=\"outer\")\n",
    "artist_count_df = artist_count_df.fillna(0)\n",
    "\n",
    "# get artist and their respective genres from the main data,\n",
    "# then join it with the artist count data\n",
    "artist_genre_df = top_tracks_names.drop_duplicates(\"artist\")[\n",
    "    [\"artist\", \"genres\"]]\n",
    "artist_count_df = artist_count_df.merge(\n",
    "    artist_genre_df, left_on=\"name\", right_on=\"artist\")\n",
    "\n",
    "artist_count_df.head()"
   ]
  },
  {
   "cell_type": "markdown",
   "metadata": {},
   "source": [
    "If we just look at the frequency of each artist in each cluster, Kygo would be high up in most of the clusters. For that reason, we have to find a different way to calculate the importance of each artist to each cluster. \n",
    "\n",
    "To normalize high numbers, I came up with the formula: \n",
    "$$\\frac{frequencyInCluster^2}{artistTotal * clusterTotal}$$\n",
    "\n",
    "This equation takes into account the proportion of an artist present in the cluster in addition to the proportion of the cluster that the artist takes up. Artists with only song will have a full 1 for the first and a low number for the second in a 20-ish song cluster, while artists with many songs will have a low number for the first, and a higher number for the second. "
   ]
  },
  {
   "cell_type": "code",
   "execution_count": 20,
   "metadata": {},
   "outputs": [
    {
     "data": {
      "text/html": [
       "<div>\n",
       "<style scoped>\n",
       "    .dataframe tbody tr th:only-of-type {\n",
       "        vertical-align: middle;\n",
       "    }\n",
       "\n",
       "    .dataframe tbody tr th {\n",
       "        vertical-align: top;\n",
       "    }\n",
       "\n",
       "    .dataframe thead th {\n",
       "        text-align: right;\n",
       "    }\n",
       "</style>\n",
       "<table border=\"1\" class=\"dataframe\">\n",
       "  <thead>\n",
       "    <tr style=\"text-align: right;\">\n",
       "      <th></th>\n",
       "      <th>total</th>\n",
       "      <th>name</th>\n",
       "      <th>cluster_0</th>\n",
       "      <th>cluster_1</th>\n",
       "      <th>cluster_2</th>\n",
       "      <th>cluster_3</th>\n",
       "      <th>cluster_4</th>\n",
       "      <th>cluster_5</th>\n",
       "      <th>artist</th>\n",
       "      <th>genres</th>\n",
       "    </tr>\n",
       "  </thead>\n",
       "  <tbody>\n",
       "    <tr>\n",
       "      <th>0</th>\n",
       "      <td>11</td>\n",
       "      <td>Kygo</td>\n",
       "      <td>0.013986</td>\n",
       "      <td>0.005682</td>\n",
       "      <td>0.084175</td>\n",
       "      <td>0.0</td>\n",
       "      <td>0.004132</td>\n",
       "      <td>0.060606</td>\n",
       "      <td>Kygo</td>\n",
       "      <td>[edm, pop, tropical house]</td>\n",
       "    </tr>\n",
       "    <tr>\n",
       "      <th>1</th>\n",
       "      <td>8</td>\n",
       "      <td>Passenger</td>\n",
       "      <td>0.043269</td>\n",
       "      <td>0.031250</td>\n",
       "      <td>0.018519</td>\n",
       "      <td>0.0</td>\n",
       "      <td>0.000000</td>\n",
       "      <td>0.020833</td>\n",
       "      <td>Passenger</td>\n",
       "      <td>[folk-pop, neo mellow, pop, pop rock]</td>\n",
       "    </tr>\n",
       "    <tr>\n",
       "      <th>2</th>\n",
       "      <td>8</td>\n",
       "      <td>Avicii</td>\n",
       "      <td>0.019231</td>\n",
       "      <td>0.007812</td>\n",
       "      <td>0.018519</td>\n",
       "      <td>0.0</td>\n",
       "      <td>0.022727</td>\n",
       "      <td>0.020833</td>\n",
       "      <td>Avicii</td>\n",
       "      <td>[big room, dance pop, edm, pop]</td>\n",
       "    </tr>\n",
       "    <tr>\n",
       "      <th>3</th>\n",
       "      <td>4</td>\n",
       "      <td>Lost Frequencies</td>\n",
       "      <td>0.038462</td>\n",
       "      <td>0.000000</td>\n",
       "      <td>0.009259</td>\n",
       "      <td>0.0</td>\n",
       "      <td>0.011364</td>\n",
       "      <td>0.000000</td>\n",
       "      <td>Lost Frequencies</td>\n",
       "      <td>[belgian edm, edm, pop, tropical house]</td>\n",
       "    </tr>\n",
       "    <tr>\n",
       "      <th>4</th>\n",
       "      <td>3</td>\n",
       "      <td>Chef'Special</td>\n",
       "      <td>0.012821</td>\n",
       "      <td>0.020833</td>\n",
       "      <td>0.012346</td>\n",
       "      <td>0.0</td>\n",
       "      <td>0.000000</td>\n",
       "      <td>0.000000</td>\n",
       "      <td>Chef'Special</td>\n",
       "      <td>[dutch indie, dutch pop, dutch rock, folk-pop]</td>\n",
       "    </tr>\n",
       "  </tbody>\n",
       "</table>\n",
       "</div>"
      ],
      "text/plain": [
       "   total              name  cluster_0  cluster_1  cluster_2  cluster_3  \\\n",
       "0     11              Kygo   0.013986   0.005682   0.084175        0.0   \n",
       "1      8         Passenger   0.043269   0.031250   0.018519        0.0   \n",
       "2      8            Avicii   0.019231   0.007812   0.018519        0.0   \n",
       "3      4  Lost Frequencies   0.038462   0.000000   0.009259        0.0   \n",
       "4      3      Chef'Special   0.012821   0.020833   0.012346        0.0   \n",
       "\n",
       "   cluster_4  cluster_5            artist  \\\n",
       "0   0.004132   0.060606              Kygo   \n",
       "1   0.000000   0.020833         Passenger   \n",
       "2   0.022727   0.020833            Avicii   \n",
       "3   0.011364   0.000000  Lost Frequencies   \n",
       "4   0.000000   0.000000      Chef'Special   \n",
       "\n",
       "                                           genres  \n",
       "0                      [edm, pop, tropical house]  \n",
       "1           [folk-pop, neo mellow, pop, pop rock]  \n",
       "2                 [big room, dance pop, edm, pop]  \n",
       "3         [belgian edm, edm, pop, tropical house]  \n",
       "4  [dutch indie, dutch pop, dutch rock, folk-pop]  "
      ]
     },
     "execution_count": 20,
     "metadata": {},
     "output_type": "execute_result"
    }
   ],
   "source": [
    "# stores the size of each cluster for future use, since we're replacing the counts with percentages\n",
    "cluster_sizes = []\n",
    "for i in range(k):\n",
    "    cluster_sizes.append(\n",
    "        {\n",
    "            \"cluster\": i,\n",
    "            \"total\": artist_count_df['cluster_' + str(i)].sum()\n",
    "        })\n",
    "\n",
    "# replace the frequency with the percentage of the artist songs in each cluster\n",
    "for i in range(k):\n",
    "    artist_count_df['cluster_' + str(i)] = artist_count_df['cluster_' + str(i)]**2 / (\n",
    "        artist_count_df.total * artist_count_df['cluster_' + str(i)].sum())\n",
    "\n",
    "artist_count_df.head()"
   ]
  },
  {
   "cell_type": "code",
   "execution_count": 21,
   "metadata": {},
   "outputs": [
    {
     "name": "stdout",
     "output_type": "stream",
     "text": [
      "0. neo mellow/pop\n",
      "Passenger\n",
      "Lost Frequencies\n",
      "Tropixx\n",
      "\n",
      "1. pop/indiecoustica\n",
      "Juke Ross\n",
      "Krezip\n",
      "Eklo\n",
      "\n",
      "2. indie rock/modern rock\n",
      "Train\n",
      "Kygo\n",
      "Saint Motel\n",
      "\n",
      "3. \n",
      "AT8\n",
      "\n",
      "4. pop/tropical house\n",
      "Cheat Codes\n",
      "Kodaline\n",
      "Saint James\n",
      "\n",
      "5. pop/neo mellow\n",
      "Matthew Mole\n",
      "John Mayer\n",
      "Kygo\n",
      "\n"
     ]
    }
   ],
   "source": [
    "# function to count frequency of each genre in top artists of cluster\n",
    "# then return an array of the top genres\n",
    "def findBestGenre(genres):\n",
    "    g = defaultdict(int)\n",
    "    for row in genres:\n",
    "        for genre in row:\n",
    "            g[genre] += 1\n",
    "    return sorted(g, key=g.get, reverse=True)\n",
    "\n",
    "# limit array to n elements\n",
    "def listLimit(n, lst):\n",
    "    return lst if len(lst) < n else lst[:n]\n",
    "\n",
    "\n",
    "# get top genres and artists and store them in arrays\n",
    "genre_groups = []\n",
    "artist_groups = []\n",
    "for i in range(k):\n",
    "    cluster_artists_sort = artist_count_df.nlargest(\n",
    "        10, columns=['cluster_' + str(i)])\n",
    "    cluster_artists = cluster_artists_sort[cluster_artists_sort[\"cluster_\" + str(\n",
    "        i)] > 0]\n",
    "    mygenres = findBestGenre(cluster_artists[\"genres\"])\n",
    "    genre_groups.append(mygenres)\n",
    "    artist_groups.append(cluster_artists['name'].values)\n",
    "\n",
    "# print each labelled cluster\n",
    "for i in range(k):\n",
    "    print(\"{}. {}\\n{}\\n\".format(i, \"/\".join(listLimit(2, genre_groups[i])),\n",
    "                            \"\\n\".join(listLimit(3, artist_groups[i]))))"
   ]
  },
  {
   "cell_type": "markdown",
   "metadata": {},
   "source": [
    "**Annotate cluster centroid plot with genres and artists**"
   ]
  },
  {
   "cell_type": "code",
   "execution_count": 22,
   "metadata": {},
   "outputs": [
    {
     "data": {
      "image/png": "[encoded data removed]",
      "text/plain": [
       "<Figure size 432x288 with 1 Axes>"
      ]
     },
     "metadata": {
      "needs_background": "light"
     },
     "output_type": "display_data"
    }
   ],
   "source": [
    "# set up plot\n",
    "fig, ax = plt.subplots()\n",
    "\n",
    "# function to add annotation to cluster i\n",
    "def annotateCluster(i):\n",
    "    xy = (PCA_comp_centroids[0][i], PCA_comp_centroids[1][i])\n",
    "    text = \"{}\\n- {}\".format(\n",
    "        \"/\".join(listLimit(2, genre_groups[i])), \"\\n- \".join(listLimit(3, artist_groups[i])))\n",
    "    ax.annotate(text, xy=xy, xytext=(20, 20), textcoords=\"offset points\",\n",
    "                bbox=dict(boxstyle=\"round\", fc=\"w\"),\n",
    "                arrowprops=dict(arrowstyle=\"->\"))\n",
    "\n",
    "    \n",
    "sn.kdeplot(PCA_comp[0], PCA_comp[1], shade=True, shade_lowest=False)\n",
    "plt.scatter(PCA_comp_centroids[0], PCA_comp_centroids[1], c=PCA_comp_centroids.index.astype(float))\n",
    "\n",
    "# show annotation for cluster_0\n",
    "annotateCluster(0);"
   ]
  },
  {
   "cell_type": "code",
   "execution_count": 23,
   "metadata": {},
   "outputs": [
    {
     "data": {
      "image/png": "[encoded data removed]",
      "text/plain": [
       "<Figure size 432x288 with 1 Axes>"
      ]
     },
     "metadata": {
      "needs_background": "light"
     },
     "output_type": "display_data"
    }
   ],
   "source": [
    "# clean illustration of taste map\n",
    "fig, ax = plt.subplots()\n",
    "sn.kdeplot(PCA_comp[0], PCA_comp[1], shade=True, shade_lowest=False)\n",
    "plt.axis(\"off\")\n",
    "plt.scatter(PCA_comp_centroids[0], PCA_comp_centroids[1], alpha=0.2, c=\"black\")\n",
    "\n",
    "# show annotations for cluster 0 and 1\n",
    "annotateCluster(0);\n",
    "annotateCluster(1);"
   ]
  },
  {
   "cell_type": "markdown",
   "metadata": {},
   "source": [
    "With the taste map done, we can plot the genre groups graph making use of this data. To do this we'll sort the clusters by size, and get the most popular genres in each cluster. "
   ]
  },
  {
   "cell_type": "code",
   "execution_count": 24,
   "metadata": {},
   "outputs": [],
   "source": [
    "# get clusters sorted by size\n",
    "cluster_sizes = sorted(\n",
    "    cluster_sizes, key=lambda cluster: cluster[\"total\"], reverse=True)\n",
    "\n",
    "# Plots packed circle chart with top genres\n",
    "uniq_genres = []\n",
    "set_length = 0\n",
    "cluster_genres = []\n",
    "size_diff = 6\n",
    "circ_size = k*size_diff + size_diff\n",
    "\n",
    "# from largest cluster to smallest cluster, find the most common genres in each cluster\n",
    "# also set the circles to less extreme sizes, with a uniform difference\n",
    "for i in range(k):\n",
    "    ind = cluster_sizes[i][\"cluster\"]\n",
    "    cluster_sizes[i][\"size\"] = circ_size\n",
    "    circ_size -= size_diff\n",
    "    for genre in genre_groups[ind]:\n",
    "        if genre not in uniq_genres:\n",
    "            uniq_genres.append(genre)\n",
    "        if len(uniq_genres) - set_length >= 3:\n",
    "            break\n",
    "    cluster_genres.append(uniq_genres[set_length:])\n",
    "    set_length = len(uniq_genres)"
   ]
  },
  {
   "cell_type": "markdown",
   "metadata": {},
   "source": [
    "Then, we'll format the genres and plot it with the `circlify` library we imported at the start. "
   ]
  },
  {
   "cell_type": "code",
   "execution_count": 25,
   "metadata": {},
   "outputs": [
    {
     "data": {
      "image/png": "[encoded data removed]",
      "text/plain": [
       "<Figure size 576x576 with 1 Axes>"
      ]
     },
     "metadata": {
      "needs_background": "light"
     },
     "output_type": "display_data"
    }
   ],
   "source": [
    "# format the genre string and remove clusters with no genres\n",
    "def formatGenreText(genres):\n",
    "    for i in range(len(genres)):\n",
    "        if len(genres[i]) > 0:\n",
    "            genres[i] = \"\\n\".join(genres[i])\n",
    "    return [cluster for cluster in genres if cluster != []]\n",
    "\n",
    "\n",
    "# remove circles that have no genres from the plot\n",
    "genre_data = []\n",
    "for i in range(k):\n",
    "    if len(cluster_genres[i]) > 0:\n",
    "        genre_data.append(cluster_sizes[i])\n",
    "\n",
    "circles = circ.circlify(genre_data, datum_field=\"size\", id_field=\"labels\")\n",
    "circ.bubbles(circles, labels=formatGenreText(cluster_genres))"
   ]
  },
  {
   "cell_type": "markdown",
   "metadata": {},
   "source": [
    "There we have it. We ware able to recreate the plot from the article, complete with the labelling of each cluster with the top genres and artists. Next, I'll be looking to recreate this in JavaScript, and also explore the collaborative filtering part of the algorithm!"
   ]
  }
 ],
 "metadata": {
  "kernelspec": {
   "display_name": "Python 3",
   "language": "python",
   "name": "python3"
  },
  "language_info": {
   "codemirror_mode": {
    "name": "ipython",
    "version": 3
   },
   "file_extension": ".py",
   "mimetype": "text/x-python",
   "name": "python",
   "nbconvert_exporter": "python",
   "pygments_lexer": "ipython3",
   "version": "3.6.9"
  }
 },
 "nbformat": 4,
 "nbformat_minor": 2
}