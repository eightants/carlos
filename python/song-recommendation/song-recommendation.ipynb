{
 "metadata": {
  "language_info": {
   "codemirror_mode": {
    "name": "ipython",
    "version": 3
   },
   "file_extension": ".py",
   "mimetype": "text/x-python",
   "name": "python",
   "nbconvert_exporter": "python",
   "pygments_lexer": "ipython3",
   "version": "3.6.9-final"
  },
  "orig_nbformat": 2,
  "kernelspec": {
   "name": "Python 3.6.9 64-bit ('base': conda)",
   "display_name": "Python 3.6.9 64-bit ('base': conda)",
   "metadata": {
    "interpreter": {
     "hash": "aecc75d3f49f5b5160db705f532172094c92cc0a4c384fcc935aba414f3d439b"
    }
   }
  }
 },
 "nbformat": 4,
 "nbformat_minor": 2,
 "cells": [
  {
   "source": [
    "## Recreating Spotify's Discover Weekly\n",
    "\n",
    "Spotify launched their Discover Weekly playlists in 2015, and it has been a great success. The secret? A mixture of collaborative filtering with music from other users, and a profile of each user’s music tastes. A Quartz Editor got an exclusive look into the inner workings of the system and a beautiful visual representation of their taste profile. \n",
    "\n",
    "This notebook will explore the recommendation aspect of the system. I'll be making use of both content-based recommendation with the micro-genres and artists combined with collaborative filtering with user activity from Whisperify to attempt to achieve song recommendations as good as Whisperify's. \n"
   ],
   "cell_type": "markdown",
   "metadata": {}
  },
  {
   "source": [
    "### Setup\n",
    "\n",
    "If you have cloned this repository and are running this locally, you should create a Spotify app and define a `.env` file in the `/python` directory with the contents below. \n",
    "```\n",
    "CLIENT_ID=\"your_spotify_app_id\"\n",
    "CLIENT_SECRET=\"your_spotify_app_secret\"\n",
    "USER_ID=\"your_spotify_username\"\n",
    "```"
   ],
   "cell_type": "markdown",
   "metadata": {}
  },
  {
   "source": [
    "**Importing the required libraries**\n",
    "\n",
    "We'll be using the `spotipy` library to obtain Spotify data, `dotenv` to load the env variables from the `.env` file, the `pandas` library to manipulate our data, and `surprise` and `sklearn` for the collaborative filtering and content recommendation models. "
   ],
   "cell_type": "markdown",
   "metadata": {}
  },
  {
   "cell_type": "code",
   "execution_count": 73,
   "metadata": {},
   "outputs": [],
   "source": [
    "import os, sys\n",
    "import numpy as np\n",
    "import pandas as pd\n",
    "\n",
    "from dotenv import load_dotenv\n",
    "import spotipy\n",
    "import spotipy.util as util\n",
    "\n",
    "from surprise.model_selection import train_test_split\n",
    "from surprise import Dataset, Reader, SVD, accuracy\n",
    "from sklearn.metrics.pairwise import linear_kernel\n",
    "from sklearn.feature_extraction.text import TfidfVectorizer"
   ]
  },
  {
   "source": [
    "To recommend songs, we need datasets to train on. I parsed the user data from Whisperify into csv files formatted similarly to the MovieLens dataset. One file contains the popularity of each song with listeners, and the other contains the metadata of each song. \n",
    "\n",
    "The data in the files has been anonymized."
   ],
   "cell_type": "markdown",
   "metadata": {}
  },
  {
   "cell_type": "code",
   "execution_count": 74,
   "metadata": {},
   "outputs": [],
   "source": [
    "data = pd.read_csv(os.path.join(sys.path[0], 'pos_rating.csv'))\n",
    "df_songs = pd.read_csv(os.path.join(sys.path[0], 'songs.csv'))"
   ]
  },
  {
   "cell_type": "code",
   "execution_count": 75,
   "metadata": {},
   "outputs": [
    {
     "output_type": "execute_result",
     "data": {
      "text/plain": [
       "   user                    song  rating country\n",
       "0     1  60oMXS1hZtvK1u4wmmOIyT       5      CH\n",
       "1     1  2MsNSKQNQNRklkKFxxvIav       5      CH\n",
       "2     1  5qz2JLETV6S7nWakMB37ki       5      CH\n",
       "3     1  4knqZHNHlEBBEmfETcpTyr       5      CH\n",
       "4     1  0nNrpT5W9YOvR3bEa7ym12       5      CH"
      ],
      "text/html": "<div>\n<style scoped>\n    .dataframe tbody tr th:only-of-type {\n        vertical-align: middle;\n    }\n\n    .dataframe tbody tr th {\n        vertical-align: top;\n    }\n\n    .dataframe thead th {\n        text-align: right;\n    }\n</style>\n<table border=\"1\" class=\"dataframe\">\n  <thead>\n    <tr style=\"text-align: right;\">\n      <th></th>\n      <th>user</th>\n      <th>song</th>\n      <th>rating</th>\n      <th>country</th>\n    </tr>\n  </thead>\n  <tbody>\n    <tr>\n      <th>0</th>\n      <td>1</td>\n      <td>60oMXS1hZtvK1u4wmmOIyT</td>\n      <td>5</td>\n      <td>CH</td>\n    </tr>\n    <tr>\n      <th>1</th>\n      <td>1</td>\n      <td>2MsNSKQNQNRklkKFxxvIav</td>\n      <td>5</td>\n      <td>CH</td>\n    </tr>\n    <tr>\n      <th>2</th>\n      <td>1</td>\n      <td>5qz2JLETV6S7nWakMB37ki</td>\n      <td>5</td>\n      <td>CH</td>\n    </tr>\n    <tr>\n      <th>3</th>\n      <td>1</td>\n      <td>4knqZHNHlEBBEmfETcpTyr</td>\n      <td>5</td>\n      <td>CH</td>\n    </tr>\n    <tr>\n      <th>4</th>\n      <td>1</td>\n      <td>0nNrpT5W9YOvR3bEa7ym12</td>\n      <td>5</td>\n      <td>CH</td>\n    </tr>\n  </tbody>\n</table>\n</div>"
     },
     "metadata": {},
     "execution_count": 75
    }
   ],
   "source": [
    "# Preview of ratings.csv\n",
    "data.head()"
   ]
  },
  {
   "cell_type": "code",
   "execution_count": 76,
   "metadata": {},
   "outputs": [
    {
     "output_type": "execute_result",
     "data": {
      "text/plain": [
       "                       id                            title  \\\n",
       "0  60oMXS1hZtvK1u4wmmOIyT                  Virtual Friends   \n",
       "1  2MsNSKQNQNRklkKFxxvIav  9 and Three Quarters (Run Away)   \n",
       "2  5qz2JLETV6S7nWakMB37ki                             FAST   \n",
       "3  4knqZHNHlEBBEmfETcpTyr                            D.D.D   \n",
       "4  0nNrpT5W9YOvR3bEa7ym12                         Moonwalk   \n",
       "\n",
       "               artists                                             genres  \n",
       "0              DROELOE  bass trap,edm,electronic trap,future bass,pop ...  \n",
       "1  TOMORROW X TOGETHER                                              k-pop  \n",
       "2   CHUNG HA,Mommy Son                                        k-pop,k-rap  \n",
       "3             THE BOYZ                              k-pop,k-pop boy group  \n",
       "4                 WayV                             chinese idol pop,k-pop  "
      ],
      "text/html": "<div>\n<style scoped>\n    .dataframe tbody tr th:only-of-type {\n        vertical-align: middle;\n    }\n\n    .dataframe tbody tr th {\n        vertical-align: top;\n    }\n\n    .dataframe thead th {\n        text-align: right;\n    }\n</style>\n<table border=\"1\" class=\"dataframe\">\n  <thead>\n    <tr style=\"text-align: right;\">\n      <th></th>\n      <th>id</th>\n      <th>title</th>\n      <th>artists</th>\n      <th>genres</th>\n    </tr>\n  </thead>\n  <tbody>\n    <tr>\n      <th>0</th>\n      <td>60oMXS1hZtvK1u4wmmOIyT</td>\n      <td>Virtual Friends</td>\n      <td>DROELOE</td>\n      <td>bass trap,edm,electronic trap,future bass,pop ...</td>\n    </tr>\n    <tr>\n      <th>1</th>\n      <td>2MsNSKQNQNRklkKFxxvIav</td>\n      <td>9 and Three Quarters (Run Away)</td>\n      <td>TOMORROW X TOGETHER</td>\n      <td>k-pop</td>\n    </tr>\n    <tr>\n      <th>2</th>\n      <td>5qz2JLETV6S7nWakMB37ki</td>\n      <td>FAST</td>\n      <td>CHUNG HA,Mommy Son</td>\n      <td>k-pop,k-rap</td>\n    </tr>\n    <tr>\n      <th>3</th>\n      <td>4knqZHNHlEBBEmfETcpTyr</td>\n      <td>D.D.D</td>\n      <td>THE BOYZ</td>\n      <td>k-pop,k-pop boy group</td>\n    </tr>\n    <tr>\n      <th>4</th>\n      <td>0nNrpT5W9YOvR3bEa7ym12</td>\n      <td>Moonwalk</td>\n      <td>WayV</td>\n      <td>chinese idol pop,k-pop</td>\n    </tr>\n  </tbody>\n</table>\n</div>"
     },
     "metadata": {},
     "execution_count": 76
    }
   ],
   "source": [
    "# Preview of songs.csv\n",
    "df_songs.head()"
   ]
  },
  {
   "source": [
    "Now, since we anonymized the data, we need to call the Spotify API to get our personal top songs in the same format as the above dataframes.  "
   ],
   "cell_type": "markdown",
   "metadata": {}
  },
  {
   "cell_type": "code",
   "execution_count": 77,
   "metadata": {},
   "outputs": [],
   "source": [
    "# loads and sets API keys\n",
    "load_dotenv()\n",
    "\n",
    "client_id = os.getenv('CLIENT_ID')\n",
    "client_secret = os.getenv('CLIENT_SECRET')\n",
    "user_id = os.getenv(\"USER_ID\")\n",
    "\n",
    "# redirect uri and scope for obtaining Spotify token\n",
    "redirect_uri = \"http://localhost:9999\"\n",
    "scope = 'user-library-read, playlist-modify-public, user-top-read user-read-private'"
   ]
  },
  {
   "cell_type": "code",
   "execution_count": 78,
   "metadata": {},
   "outputs": [],
   "source": [
    "# obtains user token from Spotify\n",
    "token = util.prompt_for_user_token(user_id, scope=scope, client_id=client_id, \\\n",
    "                                   client_secret=client_secret, redirect_uri=redirect_uri)\n",
    "sp = spotipy.Spotify(auth = token)\n",
    "\n",
    "# make request for my top tracks\n",
    "top_tracks = sp.current_user_top_tracks(limit=49, time_range=\"long_term\")\n",
    "songs = top_tracks[\"items\"]\n",
    "top_tracks = sp.next(top_tracks) # there are 2 pages of top tracks\n",
    "songs.extend(top_tracks['items'])"
   ]
  },
  {
   "cell_type": "code",
   "execution_count": 79,
   "metadata": {},
   "outputs": [
    {
     "output_type": "execute_result",
     "data": {
      "text/plain": [
       "                       id                                       title  \\\n",
       "0  6NVjujGb9fnl25fjzm5dTy                          Freak (feat. Bonn)   \n",
       "1  77w4HJEAGzRwHTapyXjFl1                          Holes - Radio Edit   \n",
       "2  7FMEEYbIfiEazN02exf120                         The Wrong Direction   \n",
       "3  0L9lXMXddmoBbBUeF7A9An  Nervous (The Ooh Song) - Mark McCabe Remix   \n",
       "4  7DFNE7NO0raLIUbgzY2rzm                                  Let Her Go   \n",
       "\n",
       "                   artists                                             genres  \n",
       "0              Avicii,Bonn             big room,dance pop,edm,pop,swedish pop  \n",
       "1                Passenger                   folk-pop,neo mellow,pop,pop rock  \n",
       "2                Passenger                   folk-pop,neo mellow,pop,pop rock  \n",
       "3  Gavin James,Mark McCabe  irish pop,neo mellow,pop,pop rock,viral pop,ir...  \n",
       "4                Passenger                   folk-pop,neo mellow,pop,pop rock  "
      ],
      "text/html": "<div>\n<style scoped>\n    .dataframe tbody tr th:only-of-type {\n        vertical-align: middle;\n    }\n\n    .dataframe tbody tr th {\n        vertical-align: top;\n    }\n\n    .dataframe thead th {\n        text-align: right;\n    }\n</style>\n<table border=\"1\" class=\"dataframe\">\n  <thead>\n    <tr style=\"text-align: right;\">\n      <th></th>\n      <th>id</th>\n      <th>title</th>\n      <th>artists</th>\n      <th>genres</th>\n    </tr>\n  </thead>\n  <tbody>\n    <tr>\n      <th>0</th>\n      <td>6NVjujGb9fnl25fjzm5dTy</td>\n      <td>Freak (feat. Bonn)</td>\n      <td>Avicii,Bonn</td>\n      <td>big room,dance pop,edm,pop,swedish pop</td>\n    </tr>\n    <tr>\n      <th>1</th>\n      <td>77w4HJEAGzRwHTapyXjFl1</td>\n      <td>Holes - Radio Edit</td>\n      <td>Passenger</td>\n      <td>folk-pop,neo mellow,pop,pop rock</td>\n    </tr>\n    <tr>\n      <th>2</th>\n      <td>7FMEEYbIfiEazN02exf120</td>\n      <td>The Wrong Direction</td>\n      <td>Passenger</td>\n      <td>folk-pop,neo mellow,pop,pop rock</td>\n    </tr>\n    <tr>\n      <th>3</th>\n      <td>0L9lXMXddmoBbBUeF7A9An</td>\n      <td>Nervous (The Ooh Song) - Mark McCabe Remix</td>\n      <td>Gavin James,Mark McCabe</td>\n      <td>irish pop,neo mellow,pop,pop rock,viral pop,ir...</td>\n    </tr>\n    <tr>\n      <th>4</th>\n      <td>7DFNE7NO0raLIUbgzY2rzm</td>\n      <td>Let Her Go</td>\n      <td>Passenger</td>\n      <td>folk-pop,neo mellow,pop,pop rock</td>\n    </tr>\n  </tbody>\n</table>\n</div>"
     },
     "metadata": {},
     "execution_count": 79
    }
   ],
   "source": [
    "i = 0\n",
    "df_arr = []\n",
    "while i < len(songs):\n",
    "  retsongs = songs[i:min(i + 50, len(songs))]\n",
    "\n",
    "  artist_in_arr = []\n",
    "  track_name = []\n",
    "  artist_arr = []\n",
    "  for track in retsongs:\n",
    "    track_name.append(track[\"name\"])\n",
    "    a_tmp = []\n",
    "    for artist in track[\"artists\"]:\n",
    "      artist_arr.append(artist[\"id\"])\n",
    "      a_tmp.append(artist[\"id\"])\n",
    "    artist_in_arr.append(a_tmp)\n",
    "  artists_api = list(set(artist_arr))\n",
    "  j = 0\n",
    "  artist_info = []\n",
    "  while j < len(artists_api):\n",
    "    ret_art = sp.artists(artists_api[j:min(j + 50, len(artists_api))])\n",
    "    artist_info += ret_art[\"artists\"]\n",
    "    j += 50\n",
    "  genres = {}\n",
    "  for artist in artist_info:\n",
    "    genres[artist[\"id\"]] = {'genres': artist[\"genres\"], 'name': artist[\"name\"]}\n",
    "  for ind in range(len(artist_in_arr)):\n",
    "    item = artist_in_arr[ind]\n",
    "    artist_name = []\n",
    "    genres_list = []\n",
    "    for artist in item:\n",
    "      artist_name.append(genres[artist][\"name\"])\n",
    "      genres_list += genres[artist][\"genres\"]\n",
    "    new_row = [songs[i + ind][\"id\"], track_name[ind], \",\".join(artist_name), \",\".join(genres_list)]\n",
    "    df_arr.append(new_row)\n",
    "  i += 50\n",
    "\n",
    "my_songinfo = pd.DataFrame(df_arr,columns=[\"id\", \"title\", \"artists\", \"genres\"])\n",
    "my_songinfo.head()"
   ]
  },
  {
   "cell_type": "code",
   "execution_count": 80,
   "metadata": {},
   "outputs": [
    {
     "output_type": "execute_result",
     "data": {
      "text/plain": [
       "          user                    song  rating country\n",
       "0  at8official  6NVjujGb9fnl25fjzm5dTy       5      NL\n",
       "1  at8official  77w4HJEAGzRwHTapyXjFl1       5      NL\n",
       "2  at8official  7FMEEYbIfiEazN02exf120       5      NL\n",
       "3  at8official  0L9lXMXddmoBbBUeF7A9An       5      NL\n",
       "4  at8official  7DFNE7NO0raLIUbgzY2rzm       5      NL"
      ],
      "text/html": "<div>\n<style scoped>\n    .dataframe tbody tr th:only-of-type {\n        vertical-align: middle;\n    }\n\n    .dataframe tbody tr th {\n        vertical-align: top;\n    }\n\n    .dataframe thead th {\n        text-align: right;\n    }\n</style>\n<table border=\"1\" class=\"dataframe\">\n  <thead>\n    <tr style=\"text-align: right;\">\n      <th></th>\n      <th>user</th>\n      <th>song</th>\n      <th>rating</th>\n      <th>country</th>\n    </tr>\n  </thead>\n  <tbody>\n    <tr>\n      <th>0</th>\n      <td>at8official</td>\n      <td>6NVjujGb9fnl25fjzm5dTy</td>\n      <td>5</td>\n      <td>NL</td>\n    </tr>\n    <tr>\n      <th>1</th>\n      <td>at8official</td>\n      <td>77w4HJEAGzRwHTapyXjFl1</td>\n      <td>5</td>\n      <td>NL</td>\n    </tr>\n    <tr>\n      <th>2</th>\n      <td>at8official</td>\n      <td>7FMEEYbIfiEazN02exf120</td>\n      <td>5</td>\n      <td>NL</td>\n    </tr>\n    <tr>\n      <th>3</th>\n      <td>at8official</td>\n      <td>0L9lXMXddmoBbBUeF7A9An</td>\n      <td>5</td>\n      <td>NL</td>\n    </tr>\n    <tr>\n      <th>4</th>\n      <td>at8official</td>\n      <td>7DFNE7NO0raLIUbgzY2rzm</td>\n      <td>5</td>\n      <td>NL</td>\n    </tr>\n  </tbody>\n</table>\n</div>"
     },
     "metadata": {},
     "execution_count": 80
    }
   ],
   "source": [
    "rating_data = []\n",
    "my_user = sp.current_user()\n",
    "counter = 0\n",
    "total = len(songs) // 5 + 1\n",
    "\n",
    "for song in songs:\n",
    "    rating_data.append([my_user[\"id\"], song[\"id\"], 5 - counter//total, my_user[\"country\"]])\n",
    "    counter += 1\n",
    "\n",
    "my_ratinginfo = pd.DataFrame(rating_data,columns=[\"user\", \"song\", \"rating\", \"country\"])\n",
    "my_ratinginfo.head()"
   ]
  },
  {
   "source": [
    "### Content-based recommendation\n",
    "\n",
    "The first recommendation we'll be implementing is content-based recommendation. It essentially makes use of item-item relationships, and makes suggestions based on how similar an item is to another item. "
   ],
   "cell_type": "markdown",
   "metadata": {}
  },
  {
   "source": [
    "**Preprocess song metadata**\n",
    "\n",
    "We'll be using `TfidfVectorizer` which is a text feature extraction algorithm that makes use of how frequent a word appears in a document and the number of documents it appears in. \n",
    "\n",
    "We need to provide the important text of a song in the form of a string, so we modify the genres column of a song to be space-separated instead (We could also add the artist name into the metadata column, but since genres on Spotify are currently tied to artists, that addition might make it too specific). "
   ],
   "cell_type": "markdown",
   "metadata": {}
  },
  {
   "cell_type": "code",
   "execution_count": 81,
   "metadata": {},
   "outputs": [
    {
     "output_type": "stream",
     "name": "stdout",
     "text": [
      "(1058023, 4) (341255, 4)\n"
     ]
    }
   ],
   "source": [
    "# Add personal song data onto data from CSV\n",
    "data = pd.concat([data,my_ratinginfo])\n",
    "df_songs = pd.concat([df_songs,my_songinfo]).drop_duplicates(subset='id', keep=\"first\")\n",
    "print(data.shape, df_songs.shape)\n"
   ]
  },
  {
   "cell_type": "code",
   "execution_count": 82,
   "metadata": {},
   "outputs": [
    {
     "output_type": "stream",
     "name": "stdout",
     "text": [
      "(1058023, 10) (341255, 3)\n"
     ]
    }
   ],
   "source": [
    "# preprocessing for string recognition, get data into metadata column and join full song title for readability\n",
    "df_songs['metadata'] = df_songs[\"genres\"].apply(\n",
    "    lambda x: str(x).replace(\",\", \" \"))\n",
    "df_songs['full'] = df_songs[\"title\"] + \" - \" + df_songs[\"artists\"]\n",
    "df_metadata = df_songs[[\"id\", \"full\", \"metadata\"]]\n",
    "\n",
    "# join the song and user rating data, filling any gaps\n",
    "df_joined = data.merge(df_songs, left_on=\"song\", right_on=\"id\")\n",
    "df_joined.fillna(\"\", inplace=True)\n",
    "# Preview Roddy Rich - The Box in the data after preprocessing\n",
    "df_joined[df_joined.song == \"0nbXyq5TXYPCO7pr3N8S4I\"].head()\n",
    "print(df_joined.shape, df_metadata.shape)"
   ]
  },
  {
   "source": [
    "**Train TF-IDF Model**\n",
    "\n",
    "All that's left now is to train the model on the `metadata` column we just created. Then, define a function to find similarity between songs for a given user "
   ],
   "cell_type": "markdown",
   "metadata": {}
  },
  {
   "cell_type": "code",
   "execution_count": 83,
   "metadata": {},
   "outputs": [
    {
     "output_type": "stream",
     "name": "stdout",
     "text": [
      "Matrix Shape: (341255, 2160)\n"
     ]
    }
   ],
   "source": [
    "tfidf = TfidfVectorizer(stop_words='english')\n",
    "tfidf_matrix = tfidf.fit_transform(df_metadata['metadata'])\n",
    "print(\"Matrix Shape:\", tfidf_matrix.shape)"
   ]
  },
  {
   "cell_type": "code",
   "execution_count": 84,
   "metadata": {},
   "outputs": [],
   "source": [
    "def get_content_rec(user):\n",
    "    user_songs = df_joined[df_joined.user == user]\n",
    "    user_sims = []\n",
    "    for index, row in user_songs.iterrows():\n",
    "        new_song_vector = tfidf.transform([row[\"metadata\"]])\n",
    "        user_sims.append(linear_kernel(new_song_vector, tfidf_matrix))\n",
    "    user_scores = sum(user_sims)[0] / len(user_songs)\n",
    "    sim_scores = []\n",
    "    for i in range(len(user_scores)):\n",
    "        # gets the song id in column 0, and full song name in column 1\n",
    "        sim_scores.append(\n",
    "            [i, user_scores[i], df_metadata.iloc[i, 0], df_metadata.iloc[i, 1]])\n",
    "    sim_scores = sorted(sim_scores, key=lambda x: x[1], reverse=True)\n",
    "    return sim_scores"
   ]
  },
  {
   "cell_type": "code",
   "execution_count": 85,
   "metadata": {},
   "outputs": [
    {
     "output_type": "execute_result",
     "data": {
      "text/plain": [
       "      idx  sim_score                    song  \\\n",
       "0  230189   0.455747  2OZhWugxgM4wvjI3MXRhJg   \n",
       "1  291875   0.443453  4ERDsm0YhyQuP32Qrvg2ne   \n",
       "2  168573   0.432100  3vRvuatWmKcHhxbv6choLR   \n",
       "3  159891   0.429353  3nHHMV5YnocvTRiYqolTm9   \n",
       "4   45755   0.425094  3KxA3AlLpX2RXaARLnpuCt   \n",
       "5  174053   0.425094  7dOeiXeTSfA1ixaYmQcWu7   \n",
       "6   25065   0.423517  1ti46UopDrJPwxNl5AMmVB   \n",
       "7  275519   0.423517  0GNOl0qrkeLPBdKhA08OIu   \n",
       "8   26993   0.421221  4sJqSKPc5fZ5OZ8JiVI44N   \n",
       "9   41016   0.421221  7xbWAw3LMgRMn4omR5yVn3   \n",
       "\n",
       "                                                full  \n",
       "0  Heavenly Father (feat. Noah Kahan) - Recorded ...  \n",
       "1  The Truth - Sam Feldt Remix - James Blunt,Sam ...  \n",
       "2         Fiction (feat. Tom Odell) - Kygo,Tom Odell  \n",
       "3      Pieces (feat. Noah Kahan) - Matoma,Noah Kahan  \n",
       "4               Kids - Seeb Remix - OneRepublic,Seeb  \n",
       "5           Rich Love (with Seeb) - OneRepublic,Seeb  \n",
       "6  Best I Can (With Seeb) - Petey Remix - America...  \n",
       "7     Best I Can (With Seeb) - American Authors,Seeb  \n",
       "8  Stranger Things (feat. OneRepublic) - Kygo,One...  \n",
       "9                   Lose Somebody - Kygo,OneRepublic  "
      ],
      "text/html": "<div>\n<style scoped>\n    .dataframe tbody tr th:only-of-type {\n        vertical-align: middle;\n    }\n\n    .dataframe tbody tr th {\n        vertical-align: top;\n    }\n\n    .dataframe thead th {\n        text-align: right;\n    }\n</style>\n<table border=\"1\" class=\"dataframe\">\n  <thead>\n    <tr style=\"text-align: right;\">\n      <th></th>\n      <th>idx</th>\n      <th>sim_score</th>\n      <th>song</th>\n      <th>full</th>\n    </tr>\n  </thead>\n  <tbody>\n    <tr>\n      <th>0</th>\n      <td>230189</td>\n      <td>0.455747</td>\n      <td>2OZhWugxgM4wvjI3MXRhJg</td>\n      <td>Heavenly Father (feat. Noah Kahan) - Recorded ...</td>\n    </tr>\n    <tr>\n      <th>1</th>\n      <td>291875</td>\n      <td>0.443453</td>\n      <td>4ERDsm0YhyQuP32Qrvg2ne</td>\n      <td>The Truth - Sam Feldt Remix - James Blunt,Sam ...</td>\n    </tr>\n    <tr>\n      <th>2</th>\n      <td>168573</td>\n      <td>0.432100</td>\n      <td>3vRvuatWmKcHhxbv6choLR</td>\n      <td>Fiction (feat. Tom Odell) - Kygo,Tom Odell</td>\n    </tr>\n    <tr>\n      <th>3</th>\n      <td>159891</td>\n      <td>0.429353</td>\n      <td>3nHHMV5YnocvTRiYqolTm9</td>\n      <td>Pieces (feat. Noah Kahan) - Matoma,Noah Kahan</td>\n    </tr>\n    <tr>\n      <th>4</th>\n      <td>45755</td>\n      <td>0.425094</td>\n      <td>3KxA3AlLpX2RXaARLnpuCt</td>\n      <td>Kids - Seeb Remix - OneRepublic,Seeb</td>\n    </tr>\n    <tr>\n      <th>5</th>\n      <td>174053</td>\n      <td>0.425094</td>\n      <td>7dOeiXeTSfA1ixaYmQcWu7</td>\n      <td>Rich Love (with Seeb) - OneRepublic,Seeb</td>\n    </tr>\n    <tr>\n      <th>6</th>\n      <td>25065</td>\n      <td>0.423517</td>\n      <td>1ti46UopDrJPwxNl5AMmVB</td>\n      <td>Best I Can (With Seeb) - Petey Remix - America...</td>\n    </tr>\n    <tr>\n      <th>7</th>\n      <td>275519</td>\n      <td>0.423517</td>\n      <td>0GNOl0qrkeLPBdKhA08OIu</td>\n      <td>Best I Can (With Seeb) - American Authors,Seeb</td>\n    </tr>\n    <tr>\n      <th>8</th>\n      <td>26993</td>\n      <td>0.421221</td>\n      <td>4sJqSKPc5fZ5OZ8JiVI44N</td>\n      <td>Stranger Things (feat. OneRepublic) - Kygo,One...</td>\n    </tr>\n    <tr>\n      <th>9</th>\n      <td>41016</td>\n      <td>0.421221</td>\n      <td>7xbWAw3LMgRMn4omR5yVn3</td>\n      <td>Lose Somebody - Kygo,OneRepublic</td>\n    </tr>\n  </tbody>\n</table>\n</div>"
     },
     "metadata": {},
     "execution_count": 85
    }
   ],
   "source": [
    "# Test out the recommendations\n",
    "content_rec = pd.DataFrame(get_content_rec(user_id), columns=[\n",
    "                          \"idx\", \"sim_score\", \"song\", \"full\"])\n",
    "content_rec.head(10)"
   ]
  },
  {
   "source": [
    "### Collaborative Filtering\n",
    "\n",
    "The first recommendation actually returns pretty great results, but it mainly chooses songs that have artists you already like. What if you want to explore further? Collaborative filtering looks at user-item relationships, and uses data from users like you to recommend songs. "
   ],
   "cell_type": "markdown",
   "metadata": {}
  },
  {
   "source": [
    "**Single Value Decomposition**\n",
    "\n",
    "We'll be using SVD to for matrix factoring for our algorithm. We load in the ratings data, and train the model with a trainset and testset. Then check the accuracy our predictions. "
   ],
   "cell_type": "markdown",
   "metadata": {}
  },
  {
   "cell_type": "code",
   "execution_count": 86,
   "metadata": {},
   "outputs": [
    {
     "output_type": "stream",
     "name": "stdout",
     "text": [
      "Processing epoch 0\n",
      "Processing epoch 1\n",
      "Processing epoch 2\n",
      "Processing epoch 3\n",
      "Processing epoch 4\n",
      "RMSE: 0.8110\n"
     ]
    },
    {
     "output_type": "execute_result",
     "data": {
      "text/plain": [
       "0.8110085716022891"
      ]
     },
     "metadata": {},
     "execution_count": 86
    }
   ],
   "source": [
    "reader = Reader(rating_scale=(1, 5))\n",
    "rating_data = Dataset.load_from_df(data[['user', 'song', 'rating']], reader)\n",
    "\n",
    "trainset, testset = train_test_split(rating_data, test_size=.25)\n",
    "algorithm = SVD(n_epochs=5, verbose=True)\n",
    "algorithm.fit(trainset)\n",
    "predictions = algorithm.test(testset)\n",
    "\n",
    "accuracy.rmse(predictions)"
   ]
  },
  {
   "cell_type": "code",
   "execution_count": 87,
   "metadata": {},
   "outputs": [],
   "source": [
    "def pred_user_rating(userId):\n",
    "    if userId in data.user.unique():\n",
    "        userId_list = data[data.user == userId].song.tolist()\n",
    "        predictedL = []\n",
    "        songs_to_check = list(set(data.song.tolist()))\n",
    "        for i in songs_to_check:\n",
    "            if i not in userId_list:\n",
    "                predicted = algorithm.predict(userId, i)\n",
    "                predictedL.append((i, predicted[3] / 5))\n",
    "        top_predictions = sorted(predictedL, key=lambda x: x[1], reverse=True)\n",
    "        return top_predictions"
   ]
  },
  {
   "source": [
    "Our accuracy isn't too great, and you can see that with the recommended songs as well. I've heard of one or two of the artists, and the genres aren't genres I actually listen to. "
   ],
   "cell_type": "markdown",
   "metadata": {}
  },
  {
   "cell_type": "code",
   "execution_count": 88,
   "metadata": {},
   "outputs": [
    {
     "output_type": "execute_result",
     "data": {
      "text/plain": [
       "                     song  col_score                      id  \\\n",
       "0  6n2OY7elbEfj8FTK8oeouw   0.801113  6n2OY7elbEfj8FTK8oeouw   \n",
       "1  3IM7Y0M9ZJp0M1vUZ6z2Wa   0.787811  3IM7Y0M9ZJp0M1vUZ6z2Wa   \n",
       "2  3i8GllbdGuwIXaVrlIoE0r   0.754365  3i8GllbdGuwIXaVrlIoE0r   \n",
       "3  3nzsuf1WQSBLSnBzokrWfu   0.738172  3nzsuf1WQSBLSnBzokrWfu   \n",
       "4  0v1x6rN6JHRapa03JElljE   0.737349  0v1x6rN6JHRapa03JElljE   \n",
       "5  0A31i51V3omHTJMDCJxDfh   0.736940  0A31i51V3omHTJMDCJxDfh   \n",
       "6  4R2kfaDFhslZEMJqAFNpdd   0.735002  4R2kfaDFhslZEMJqAFNpdd   \n",
       "7  7w3pIUjz7BTTqj9uAws40m   0.729845  7w3pIUjz7BTTqj9uAws40m   \n",
       "8  2TZ9kaTiLewawHZK7yylSC   0.729700  2TZ9kaTiLewawHZK7yylSC   \n",
       "9  0SJ7vFES0Lj6pnumh3DhCe   0.729248  0SJ7vFES0Lj6pnumh3DhCe   \n",
       "\n",
       "                                full  \\\n",
       "0  Creature of Habit - Slowly Slowly   \n",
       "1     Race Car Blues - Slowly Slowly   \n",
       "2       What do you think? - Agust D   \n",
       "3                 Skin - Spacey Jane   \n",
       "4                     Dynamite - BTS   \n",
       "5                 Morbid Stuff - PUP   \n",
       "6            cardigan - Taylor Swift   \n",
       "7                    So What - LOONA   \n",
       "8           No Fear No More - Madeon   \n",
       "9                   People - Agust D   \n",
       "\n",
       "                                            metadata  \n",
       "0  aussie emo australian garage punk australian h...  \n",
       "1  aussie emo australian garage punk australian h...  \n",
       "2                                              k-rap  \n",
       "3  australian garage punk australian hip hop aust...  \n",
       "4                              k-pop k-pop boy group  \n",
       "5  alternative emo canadian indie canadian pop pu...  \n",
       "6                        dance pop pop post-teen pop  \n",
       "7                             k-pop k-pop girl group  \n",
       "8  big room complextro edm electro house electrop...  \n",
       "9                                              k-rap  "
      ],
      "text/html": "<div>\n<style scoped>\n    .dataframe tbody tr th:only-of-type {\n        vertical-align: middle;\n    }\n\n    .dataframe tbody tr th {\n        vertical-align: top;\n    }\n\n    .dataframe thead th {\n        text-align: right;\n    }\n</style>\n<table border=\"1\" class=\"dataframe\">\n  <thead>\n    <tr style=\"text-align: right;\">\n      <th></th>\n      <th>song</th>\n      <th>col_score</th>\n      <th>id</th>\n      <th>full</th>\n      <th>metadata</th>\n    </tr>\n  </thead>\n  <tbody>\n    <tr>\n      <th>0</th>\n      <td>6n2OY7elbEfj8FTK8oeouw</td>\n      <td>0.801113</td>\n      <td>6n2OY7elbEfj8FTK8oeouw</td>\n      <td>Creature of Habit - Slowly Slowly</td>\n      <td>aussie emo australian garage punk australian h...</td>\n    </tr>\n    <tr>\n      <th>1</th>\n      <td>3IM7Y0M9ZJp0M1vUZ6z2Wa</td>\n      <td>0.787811</td>\n      <td>3IM7Y0M9ZJp0M1vUZ6z2Wa</td>\n      <td>Race Car Blues - Slowly Slowly</td>\n      <td>aussie emo australian garage punk australian h...</td>\n    </tr>\n    <tr>\n      <th>2</th>\n      <td>3i8GllbdGuwIXaVrlIoE0r</td>\n      <td>0.754365</td>\n      <td>3i8GllbdGuwIXaVrlIoE0r</td>\n      <td>What do you think? - Agust D</td>\n      <td>k-rap</td>\n    </tr>\n    <tr>\n      <th>3</th>\n      <td>3nzsuf1WQSBLSnBzokrWfu</td>\n      <td>0.738172</td>\n      <td>3nzsuf1WQSBLSnBzokrWfu</td>\n      <td>Skin - Spacey Jane</td>\n      <td>australian garage punk australian hip hop aust...</td>\n    </tr>\n    <tr>\n      <th>4</th>\n      <td>0v1x6rN6JHRapa03JElljE</td>\n      <td>0.737349</td>\n      <td>0v1x6rN6JHRapa03JElljE</td>\n      <td>Dynamite - BTS</td>\n      <td>k-pop k-pop boy group</td>\n    </tr>\n    <tr>\n      <th>5</th>\n      <td>0A31i51V3omHTJMDCJxDfh</td>\n      <td>0.736940</td>\n      <td>0A31i51V3omHTJMDCJxDfh</td>\n      <td>Morbid Stuff - PUP</td>\n      <td>alternative emo canadian indie canadian pop pu...</td>\n    </tr>\n    <tr>\n      <th>6</th>\n      <td>4R2kfaDFhslZEMJqAFNpdd</td>\n      <td>0.735002</td>\n      <td>4R2kfaDFhslZEMJqAFNpdd</td>\n      <td>cardigan - Taylor Swift</td>\n      <td>dance pop pop post-teen pop</td>\n    </tr>\n    <tr>\n      <th>7</th>\n      <td>7w3pIUjz7BTTqj9uAws40m</td>\n      <td>0.729845</td>\n      <td>7w3pIUjz7BTTqj9uAws40m</td>\n      <td>So What - LOONA</td>\n      <td>k-pop k-pop girl group</td>\n    </tr>\n    <tr>\n      <th>8</th>\n      <td>2TZ9kaTiLewawHZK7yylSC</td>\n      <td>0.729700</td>\n      <td>2TZ9kaTiLewawHZK7yylSC</td>\n      <td>No Fear No More - Madeon</td>\n      <td>big room complextro edm electro house electrop...</td>\n    </tr>\n    <tr>\n      <th>9</th>\n      <td>0SJ7vFES0Lj6pnumh3DhCe</td>\n      <td>0.729248</td>\n      <td>0SJ7vFES0Lj6pnumh3DhCe</td>\n      <td>People - Agust D</td>\n      <td>k-rap</td>\n    </tr>\n  </tbody>\n</table>\n</div>"
     },
     "metadata": {},
     "execution_count": 88
    }
   ],
   "source": [
    "collab_only = pd.DataFrame(pred_user_rating(\n",
    "    user_id), columns=[\"song\", \"col_score\"])\n",
    "collab_only.merge(df_metadata, left_on=\"song\", right_on=\"id\").head(10)"
   ]
  },
  {
   "source": [
    "### Combining recommendation systems\n",
    "\n",
    "Now that we have both functions, we can run both algorithms, get the recommendations and them combine the metrics from both to find the recommended songs for a user. "
   ],
   "cell_type": "markdown",
   "metadata": {}
  },
  {
   "cell_type": "code",
   "execution_count": 89,
   "metadata": {},
   "outputs": [
    {
     "output_type": "execute_result",
     "data": {
      "text/plain": [
       "        idx  sim_score                    song  \\\n",
       "0    230189   0.455747  2OZhWugxgM4wvjI3MXRhJg   \n",
       "55    46930   0.401318  1ZLrDPgR7mvuTco3rQK8Pk   \n",
       "73    48955   0.399986  46NBoIAHrmR7qcUGCIFEjR   \n",
       "153  151751   0.393774  4fC6tDEFmSBBCRBUOPeQ8b   \n",
       "25    74907   0.408059  2wOVXsIRIoniqipE9I5ZVx   \n",
       "96   202049   0.399986  6IQPONuERifb4i4Syhmbq6   \n",
       "37    43552   0.404845  72LdECwKyf3kGV1pd9HxS7   \n",
       "16   225147   0.415560  3K7vPyMCcecKRotnu08MMP   \n",
       "168  213018   0.392980  6FuO9rHsf0ZcRs7TBY8fC9   \n",
       "7    275519   0.423517  0GNOl0qrkeLPBdKhA08OIu   \n",
       "110  252148   0.399920  0gmDeWebC2iJAKivYkxWnp   \n",
       "12   184881   0.419141  03aTa9ni9aaff0D33WnXr1   \n",
       "29   254503   0.406073  3XU3fmHAqcIc60TWYedSp2   \n",
       "11    86688   0.419413  3wYOGJYD31sLRmBgCvWxa4   \n",
       "95   202034   0.399986  53Y0kdCa1CZ9gRqEuknfwy   \n",
       "544   25054   0.369526  2dXaOy5frfzclhTFeX23KD   \n",
       "10   226519   0.421221  1sgDyuLooyvEML4oHspNza   \n",
       "123   83466   0.398646  6DsFZITJMPnh8z5XewfVmL   \n",
       "3    159891   0.429353  3nHHMV5YnocvTRiYqolTm9   \n",
       "35    40795   0.404946  7ozdQswLEj9MRtay4epz5g   \n",
       "\n",
       "                                                  full  col_score    hybrid  \n",
       "0    Heavenly Father (feat. Noah Kahan) - Recorded ...   0.626822  1.082569  \n",
       "55   Way Back Home (feat. Conor Maynard) - Sam Feld...   0.679506  1.080824  \n",
       "73   This One's for You (feat. Zara Larsson) (Offic...   0.669200  1.069186  \n",
       "153  Think About You - Galantis Remix - Kygo,Valeri...   0.674837  1.068611  \n",
       "25   Only Want You - Sam Feldt Remix - Rita Ora,Sam...   0.659538  1.067596  \n",
       "96   Lovers on the Sun (feat. Sam Martin) - David G...   0.664111  1.064096  \n",
       "37                                Grip - Seeb,Bastille   0.657932  1.062777  \n",
       "16   Crazier Things (with Noah Kahan) - Chelsea Cut...   0.646182  1.061742  \n",
       "168  Beneath The Streetlights And The Moon - JP Cooper   0.668093  1.061072  \n",
       "7       Best I Can (With Seeb) - American Authors,Seeb   0.637238  1.060755  \n",
       "110  Bright Lights - Sam Feldt Remix - HAEVN,Sam Feldt   0.660141  1.060061  \n",
       "12   Let's Hurt Tonight - BUNT. Remix - OneRepublic...   0.640820  1.059961  \n",
       "29        Hurts So Good - KREAM Remix - Astrid S,KREAM   0.653720  1.059793  \n",
       "11                I Found You - Cash Cash,Andy Grammer   0.640077  1.059490  \n",
       "95   Bang My Head (feat. Sia & Fetty Wap) - David G...   0.658321  1.058307  \n",
       "544  Vienna - Martin Jensen Remix - Declan J Donova...   0.688542  1.058069  \n",
       "10                    Lose Somebody - Kygo,OneRepublic   0.635811  1.057032  \n",
       "123            Raging (feat. Kodaline) - Kygo,Kodaline   0.657773  1.056419  \n",
       "3        Pieces (feat. Noah Kahan) - Matoma,Noah Kahan   0.625777  1.055130  \n",
       "35   Castles - Sam Feldt Remix - Freya Ridings,Sam ...   0.649812  1.054758  "
      ],
      "text/html": "<div>\n<style scoped>\n    .dataframe tbody tr th:only-of-type {\n        vertical-align: middle;\n    }\n\n    .dataframe tbody tr th {\n        vertical-align: top;\n    }\n\n    .dataframe thead th {\n        text-align: right;\n    }\n</style>\n<table border=\"1\" class=\"dataframe\">\n  <thead>\n    <tr style=\"text-align: right;\">\n      <th></th>\n      <th>idx</th>\n      <th>sim_score</th>\n      <th>song</th>\n      <th>full</th>\n      <th>col_score</th>\n      <th>hybrid</th>\n    </tr>\n  </thead>\n  <tbody>\n    <tr>\n      <th>0</th>\n      <td>230189</td>\n      <td>0.455747</td>\n      <td>2OZhWugxgM4wvjI3MXRhJg</td>\n      <td>Heavenly Father (feat. Noah Kahan) - Recorded ...</td>\n      <td>0.626822</td>\n      <td>1.082569</td>\n    </tr>\n    <tr>\n      <th>55</th>\n      <td>46930</td>\n      <td>0.401318</td>\n      <td>1ZLrDPgR7mvuTco3rQK8Pk</td>\n      <td>Way Back Home (feat. Conor Maynard) - Sam Feld...</td>\n      <td>0.679506</td>\n      <td>1.080824</td>\n    </tr>\n    <tr>\n      <th>73</th>\n      <td>48955</td>\n      <td>0.399986</td>\n      <td>46NBoIAHrmR7qcUGCIFEjR</td>\n      <td>This One's for You (feat. Zara Larsson) (Offic...</td>\n      <td>0.669200</td>\n      <td>1.069186</td>\n    </tr>\n    <tr>\n      <th>153</th>\n      <td>151751</td>\n      <td>0.393774</td>\n      <td>4fC6tDEFmSBBCRBUOPeQ8b</td>\n      <td>Think About You - Galantis Remix - Kygo,Valeri...</td>\n      <td>0.674837</td>\n      <td>1.068611</td>\n    </tr>\n    <tr>\n      <th>25</th>\n      <td>74907</td>\n      <td>0.408059</td>\n      <td>2wOVXsIRIoniqipE9I5ZVx</td>\n      <td>Only Want You - Sam Feldt Remix - Rita Ora,Sam...</td>\n      <td>0.659538</td>\n      <td>1.067596</td>\n    </tr>\n    <tr>\n      <th>96</th>\n      <td>202049</td>\n      <td>0.399986</td>\n      <td>6IQPONuERifb4i4Syhmbq6</td>\n      <td>Lovers on the Sun (feat. Sam Martin) - David G...</td>\n      <td>0.664111</td>\n      <td>1.064096</td>\n    </tr>\n    <tr>\n      <th>37</th>\n      <td>43552</td>\n      <td>0.404845</td>\n      <td>72LdECwKyf3kGV1pd9HxS7</td>\n      <td>Grip - Seeb,Bastille</td>\n      <td>0.657932</td>\n      <td>1.062777</td>\n    </tr>\n    <tr>\n      <th>16</th>\n      <td>225147</td>\n      <td>0.415560</td>\n      <td>3K7vPyMCcecKRotnu08MMP</td>\n      <td>Crazier Things (with Noah Kahan) - Chelsea Cut...</td>\n      <td>0.646182</td>\n      <td>1.061742</td>\n    </tr>\n    <tr>\n      <th>168</th>\n      <td>213018</td>\n      <td>0.392980</td>\n      <td>6FuO9rHsf0ZcRs7TBY8fC9</td>\n      <td>Beneath The Streetlights And The Moon - JP Cooper</td>\n      <td>0.668093</td>\n      <td>1.061072</td>\n    </tr>\n    <tr>\n      <th>7</th>\n      <td>275519</td>\n      <td>0.423517</td>\n      <td>0GNOl0qrkeLPBdKhA08OIu</td>\n      <td>Best I Can (With Seeb) - American Authors,Seeb</td>\n      <td>0.637238</td>\n      <td>1.060755</td>\n    </tr>\n    <tr>\n      <th>110</th>\n      <td>252148</td>\n      <td>0.399920</td>\n      <td>0gmDeWebC2iJAKivYkxWnp</td>\n      <td>Bright Lights - Sam Feldt Remix - HAEVN,Sam Feldt</td>\n      <td>0.660141</td>\n      <td>1.060061</td>\n    </tr>\n    <tr>\n      <th>12</th>\n      <td>184881</td>\n      <td>0.419141</td>\n      <td>03aTa9ni9aaff0D33WnXr1</td>\n      <td>Let's Hurt Tonight - BUNT. Remix - OneRepublic...</td>\n      <td>0.640820</td>\n      <td>1.059961</td>\n    </tr>\n    <tr>\n      <th>29</th>\n      <td>254503</td>\n      <td>0.406073</td>\n      <td>3XU3fmHAqcIc60TWYedSp2</td>\n      <td>Hurts So Good - KREAM Remix - Astrid S,KREAM</td>\n      <td>0.653720</td>\n      <td>1.059793</td>\n    </tr>\n    <tr>\n      <th>11</th>\n      <td>86688</td>\n      <td>0.419413</td>\n      <td>3wYOGJYD31sLRmBgCvWxa4</td>\n      <td>I Found You - Cash Cash,Andy Grammer</td>\n      <td>0.640077</td>\n      <td>1.059490</td>\n    </tr>\n    <tr>\n      <th>95</th>\n      <td>202034</td>\n      <td>0.399986</td>\n      <td>53Y0kdCa1CZ9gRqEuknfwy</td>\n      <td>Bang My Head (feat. Sia &amp; Fetty Wap) - David G...</td>\n      <td>0.658321</td>\n      <td>1.058307</td>\n    </tr>\n    <tr>\n      <th>544</th>\n      <td>25054</td>\n      <td>0.369526</td>\n      <td>2dXaOy5frfzclhTFeX23KD</td>\n      <td>Vienna - Martin Jensen Remix - Declan J Donova...</td>\n      <td>0.688542</td>\n      <td>1.058069</td>\n    </tr>\n    <tr>\n      <th>10</th>\n      <td>226519</td>\n      <td>0.421221</td>\n      <td>1sgDyuLooyvEML4oHspNza</td>\n      <td>Lose Somebody - Kygo,OneRepublic</td>\n      <td>0.635811</td>\n      <td>1.057032</td>\n    </tr>\n    <tr>\n      <th>123</th>\n      <td>83466</td>\n      <td>0.398646</td>\n      <td>6DsFZITJMPnh8z5XewfVmL</td>\n      <td>Raging (feat. Kodaline) - Kygo,Kodaline</td>\n      <td>0.657773</td>\n      <td>1.056419</td>\n    </tr>\n    <tr>\n      <th>3</th>\n      <td>159891</td>\n      <td>0.429353</td>\n      <td>3nHHMV5YnocvTRiYqolTm9</td>\n      <td>Pieces (feat. Noah Kahan) - Matoma,Noah Kahan</td>\n      <td>0.625777</td>\n      <td>1.055130</td>\n    </tr>\n    <tr>\n      <th>35</th>\n      <td>40795</td>\n      <td>0.404946</td>\n      <td>7ozdQswLEj9MRtay4epz5g</td>\n      <td>Castles - Sam Feldt Remix - Freya Ridings,Sam ...</td>\n      <td>0.649812</td>\n      <td>1.054758</td>\n    </tr>\n  </tbody>\n</table>\n</div>"
     },
     "metadata": {},
     "execution_count": 89
    }
   ],
   "source": [
    "content_df = pd.DataFrame(get_content_rec(user_id), columns=[\n",
    "                          \"idx\", \"sim_score\", \"song\", \"full\"])\n",
    "collab_df = pd.DataFrame(pred_user_rating(\n",
    "    user_id), columns=[\"song\", \"col_score\"])\n",
    "\n",
    "# Join both recommendations, and calculate average score\n",
    "df_hybrid = content_df.merge(collab_df, on=\"song\")\n",
    "df_hybrid.fillna(0, inplace=True)\n",
    "df_hybrid[\"hybrid\"] = df_hybrid[\"sim_score\"] + df_hybrid[\"col_score\"]\n",
    "df_hybrid = df_hybrid.sort_values(\n",
    "    \"hybrid\", ascending=False).drop_duplicates(subset=['full'])\n",
    "\n",
    "df_hybrid.head(20)"
   ]
  },
  {
   "source": [
    "### Conclusion\n",
    "The recommended songs are suited to my genres, while also having an element of exploration from users similar to me. There is still more to improve, including using audio features for the content-based recommendation, and finding ways to store more user data for the collaborative filtering model. "
   ],
   "cell_type": "markdown",
   "metadata": {}
  }
 ]
}